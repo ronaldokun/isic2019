{
 "cells": [
  {
   "cell_type": "code",
   "execution_count": 2,
   "metadata": {},
   "outputs": [
    {
     "name": "stdout",
     "output_type": "stream",
     "text": [
      "\n",
      "WARNING: apt does not have a stable CLI interface. Use with caution in scripts.\n",
      "\n",
      "ssh root:carbonara@0.tcp.ngrok.io -p 17505\n"
     ]
    }
   ],
   "source": [
    "# Install useful stuff\n",
    "! apt install --yes ssh screen nano htop ranger git > /dev/null\n",
    "# SSH setting\n",
    "! echo \"root:carbonara\" | chpasswd\n",
    "! echo \"PasswordAuthentication yes\" > /etc/ssh/sshd_config\n",
    "! echo \"PermitUserEnvironment yes\" >> /etc/ssh/sshd_config\n",
    "! echo \"PermitRootLogin yes\" >> /etc/ssh/sshd_config\n",
    "! service ssh restart > /dev/null\n",
    "# Download ngrok\n",
    "! wget -q -c -nc https://bin.equinox.io/c/4VmDzA7iaHb/ngrok-stable-linux-amd64.zip\n",
    "! unzip -qq -n ngrok-stable-linux-amd64.zip\n",
    "# Run ngrok\n",
    "authtoken = \"1dpaXIlH7GixGffCgEiynMlafhA_3NLg1GPg9Tbf3iPrxRzD4\"\n",
    "get_ipython().system_raw('./ngrok authtoken $authtoken && ./ngrok tcp 22 &')\n",
    "! sleep 3\n",
    "# Get the address for SSH\n",
    "import requests\n",
    "from re import sub\n",
    "r = requests.get('http://localhost:4040/api/tunnels')\n",
    "str_ssh = r.json()['tunnels'][0]['public_url']\n",
    "str_ssh = sub(\"tcp://\", \"\", str_ssh)\n",
    "str_ssh = sub(\":\", \" -p \", str_ssh)\n",
    "str_ssh = \"ssh root:carbonara@\" + str_ssh\n",
    "print(str_ssh)"
   ]
  },
  {
   "cell_type": "code",
   "execution_count": null,
   "metadata": {},
   "outputs": [],
   "source": [
    "from time import sleep\n",
    "from subprocess import run\n",
    "s1=\"/content/clouderizer/melanoma/code\"\n",
    "d1=\"/content/drive/My\\ Drive/clouderizer/melanoma/code\"\n",
    "s2=\"/content/clouderizer/melanoma/out\"\n",
    "d2=\"/content/drive/My\\ Drive/clouderizer/melanoma/out\""
   ]
  },
  {
   "cell_type": "code",
   "execution_count": null,
   "metadata": {},
   "outputs": [
    {
     "name": "stdout",
     "output_type": "stream",
     "text": [
      "2020/07/28 02:08:03 NOTICE: Config file \"/content/.config/rclone/rclone.conf\" not found - using defaults\n",
      "2020/07/28 02:08:18 NOTICE: Config file \"/content/.config/rclone/rclone.conf\" not found - using defaults\n",
      "2020/07/28 02:18:33 NOTICE: Config file \"/content/.config/rclone/rclone.conf\" not found - using defaults\n",
      "2020/07/28 02:18:48 NOTICE: Config file \"/content/.config/rclone/rclone.conf\" not found - using defaults\n",
      "2020/07/28 02:29:03 NOTICE: Config file \"/content/.config/rclone/rclone.conf\" not found - using defaults\n",
      "2020/07/28 02:29:19 NOTICE: Config file \"/content/.config/rclone/rclone.conf\" not found - using defaults\n",
      "2020/07/28 02:39:34 NOTICE: Config file \"/content/.config/rclone/rclone.conf\" not found - using defaults\n",
      "2020/07/28 02:39:49 NOTICE: Config file \"/content/.config/rclone/rclone.conf\" not found - using defaults\n",
      "2020/07/28 02:50:04 NOTICE: Config file \"/content/.config/rclone/rclone.conf\" not found - using defaults\n",
      "2020/07/28 02:50:19 NOTICE: Config file \"/content/.config/rclone/rclone.conf\" not found - using defaults\n",
      "2020/07/28 03:00:35 NOTICE: Config file \"/content/.config/rclone/rclone.conf\" not found - using defaults\n",
      "2020/07/28 03:00:50 NOTICE: Config file \"/content/.config/rclone/rclone.conf\" not found - using defaults\n"
     ]
    }
   ],
   "source": [
    "while True:\n",
    "    !rclone sync {s1} {d1}\n",
    "    !rclone sync {s2} {d2}\n",
    "    sleep(600)"
   ]
  },
  {
   "cell_type": "code",
   "execution_count": null,
   "metadata": {},
   "outputs": [],
   "source": []
  }
 ],
 "metadata": {
  "kernelspec": {
   "display_name": "Python 3",
   "language": "python",
   "name": "python3"
  },
  "language_info": {
   "codemirror_mode": {
    "name": "ipython",
    "version": 3
   },
   "file_extension": ".py",
   "mimetype": "text/x-python",
   "name": "python",
   "nbconvert_exporter": "python",
   "pygments_lexer": "ipython3",
   "version": "3.6.9"
  }
 },
 "nbformat": 4,
 "nbformat_minor": 2
}
