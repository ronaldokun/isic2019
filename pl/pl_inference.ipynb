{
 "cells": [
  {
   "cell_type": "markdown",
   "metadata": {
    "id": "tkQEDQA44qlC"
   },
   "source": [
    "# Melanoma classification with PyTorch Lightning\n",
    "\n",
    "Using EfficientNet on PyTorch Lightning, with its amazing hardware agnostic and mixed precision implementation.\n",
    "\n",
    "This is still work in progress, so please bear with me"
   ]
  },
  {
   "cell_type": "code",
   "execution_count": 1,
   "metadata": {
    "id": "ftZsAlKR4qlF"
   },
   "outputs": [],
   "source": [
    "fold_number = 0\n",
    "tta   = 20\n",
    "\n",
    "batch_size = {\n",
    "    'tpu': 10, # x8\n",
    "    'gpu': 20, # 10 without AMP\n",
    "    'cpu': 4,\n",
    "}\n",
    "\n",
    "arch = 'efficientnet-b5'\n",
    "resolution = 456  # orignal res for B5\n",
    "input_res  = 512\n",
    "\n",
    "lr = 8e-6   # * batch_size\n",
    "weight_decay = 2e-5\n",
    "pos_weight   = 3.2\n",
    "label_smoothing = 0.03\n",
    "\n",
    "max_epochs = 7"
   ]
  },
  {
   "cell_type": "code",
   "execution_count": 2,
   "metadata": {},
   "outputs": [],
   "source": [
    "batch_size = batch_size['gpu']"
   ]
  },
  {
   "cell_type": "markdown",
   "metadata": {
    "id": "oa7QSur04qlR"
   },
   "source": [
    "# Install modules\n",
    "\n",
    "Update PyTorch to enable its native support to Mixed Precision or XLA for TPU"
   ]
  },
  {
   "cell_type": "code",
   "execution_count": 3,
   "metadata": {
    "_kg_hide-input": false,
    "_kg_hide-output": true,
    "id": "_lmyKFye4qlT",
    "outputId": "a008eca4-4ec3-4ac7-a1a8-7f72cfa3c337"
   },
   "outputs": [],
   "source": [
    "%reload_ext autoreload\n",
    "%autoreload 2"
   ]
  },
  {
   "cell_type": "markdown",
   "metadata": {
    "id": "NRdfuFiR4qlf"
   },
   "source": [
    "# Hardware lookup"
   ]
  },
  {
   "cell_type": "code",
   "execution_count": 4,
   "metadata": {
    "_kg_hide-input": true,
    "id": "t9FS-xGM4qlh",
    "outputId": "5802bc07-8b6e-4254-ac49-2139d11911f8"
   },
   "outputs": [],
   "source": [
    "import os\n",
    "import torch\n",
    "\n",
    "num_workers = os.cpu_count()\n",
    "gpus = 1 if torch.cuda.is_available() else None\n",
    "\n",
    "try:\n",
    "    import torch_xla.core.xla_model as xm\n",
    "    tpu_cores = 8 #xm.xrt_world_size()\n",
    "except:\n",
    "    tpu_cores = None"
   ]
  },
  {
   "cell_type": "code",
   "execution_count": 6,
   "metadata": {
    "_kg_hide-input": true,
    "id": "t9FS-xGM4qlh",
    "outputId": "5802bc07-8b6e-4254-ac49-2139d11911f8"
   },
   "outputs": [
    {
     "data": {
      "text/plain": [
       "{'batch_size': 22,\n",
       " 'gpus': 1,\n",
       " 'lr': 0.000176,\n",
       " 'num_workers': 4,\n",
       " 'tpu_cores': None}"
      ]
     },
     "execution_count": 6,
     "metadata": {},
     "output_type": "execute_result"
    }
   ],
   "source": [
    "if isinstance(batch_size, dict):\n",
    "    if tpu_cores:\n",
    "        batch_size = batch_size['tpu']\n",
    "        lr *= tpu_cores\n",
    "        num_workers = 1\n",
    "    elif gpus:\n",
    "        batch_size = batch_size['gpu']\n",
    "        # support for free Colab GPU's\n",
    "        if 'K80' in torch.cuda.get_device_name():\n",
    "            batch_size = batch_size//3\n",
    "        elif 'T4' in torch.cuda.get_device_name():\n",
    "            batch_size = int(batch_size * 0.66)\n",
    "    else:\n",
    "        batch_size = batch_size['cpu']\n",
    "\n",
    "lr *= batch_size\n",
    "\n",
    "dict(\n",
    "    num_workers=num_workers,\n",
    "    tpu_cores=tpu_cores,\n",
    "    gpus=gpus,\n",
    "    batch_size=batch_size,\n",
    "    lr=lr,\n",
    ")"
   ]
  },
  {
   "cell_type": "markdown",
   "metadata": {
    "id": "fa--zHZ64qln"
   },
   "source": [
    "# Automatic Mixed Precision\n",
    "\n",
    "NVIDIA Apex is required only prior to PyTorch 1.6"
   ]
  },
  {
   "cell_type": "code",
   "execution_count": 5,
   "metadata": {
    "_kg_hide-input": true,
    "_kg_hide-output": true,
    "id": "2jNntNJb4qln"
   },
   "outputs": [],
   "source": [
    "# check for torch's native mixed precision support (pt1.6+)\n",
    "if gpus and not hasattr(torch.cuda, \"amp\"):\n",
    "    try:\n",
    "        from apex import amp\n",
    "    except:\n",
    "        !git clone https://github.com/NVIDIA/apex  nv_apex\n",
    "        !pip install -v --no-cache-dir --global-option=\"--cpp_ext\" --global-option=\"--cuda_ext\" ./nv_apex\n",
    "        from apex import amp\n",
    "    # with PyTorch Lightning all you need to do now is set precision=16"
   ]
  },
  {
   "cell_type": "markdown",
   "metadata": {
    "id": "SaoinaAu4qlu"
   },
   "source": [
    "# Imports"
   ]
  },
  {
   "cell_type": "code",
   "execution_count": 17,
   "metadata": {
    "_kg_hide-input": true,
    "_kg_hide-output": true,
    "id": "UFXXIDJt4qlv",
    "outputId": "b5e99e4c-016c-440c-e2f4-c3ed45ba50eb"
   },
   "outputs": [],
   "source": [
    "import os\n",
    "import time\n",
    "import random\n",
    "from datetime import datetime\n",
    "\n",
    "import pandas as pd\n",
    "import numpy as np\n",
    "import matplotlib.pyplot as plt\n",
    "\n",
    "import cv2\n",
    "from skimage import io\n",
    "from sklearn.metrics import roc_auc_score\n",
    "\n",
    "import torch\n",
    "from torch import nn\n",
    "from torch.nn import functional as F\n",
    "from torch.utils.data import DataLoader\n",
    "\n",
    "\n",
    "from glob import glob\n",
    "import sklearn\n",
    "\n",
    "import pytorch_lightning as pl\n",
    "import warnings\n",
    "\n",
    "warnings.filterwarnings(\"ignore\") \n",
    "warnings.filterwarnings(\"ignore\", category=DeprecationWarning) \n",
    "\n",
    "from dataset import load_datasets\n",
    "from utils import get_train_transforms, get_valid_transforms, get_tta_transforms\n",
    "from data import *\n",
    "from pathlib import Path\n",
    "from fastprogress import progress_bar as tqdm\n",
    "SAVE_DIR = OUT / f'pl/fold_{fold_number}'\n",
    "SAVE_DIR.mkdir(exist_ok=True, parents=True)"
   ]
  },
  {
   "cell_type": "code",
   "execution_count": 19,
   "metadata": {},
   "outputs": [],
   "source": [
    "df_test = pd.read_csv(f\"{DATA}/test.csv\", index_col=\"image_name\")\n",
    "ds_train, ds_val, ds_test = load_datasets(fold_number)"
   ]
  },
  {
   "cell_type": "markdown",
   "metadata": {
    "id": "dqfK4rxh4qmO"
   },
   "source": [
    "# Model"
   ]
  },
  {
   "cell_type": "code",
   "execution_count": 10,
   "metadata": {
    "_cell_guid": "b1076dfc-b9ad-4769-8c92-a6c4dae69d19",
    "_uuid": "8f2839f25d086af736a60e9eeb907d3b93b6e0e5",
    "id": "vMgS0GCj4qmP"
   },
   "outputs": [],
   "source": [
    "from efficientnet_pytorch import EfficientNet\n",
    "from pytorch_lightning.metrics.classification import AUROC\n",
    "from sklearn.metrics import roc_auc_score\n",
    "\n",
    "class Model(pl.LightningModule):\n",
    "    def __init__(self, *args, **kwargs):\n",
    "        super().__init__()\n",
    "        self.net = EfficientNet.from_pretrained(arch, advprop=True)\n",
    "        self.net._fc = nn.Linear(in_features=self.net._fc.in_features, out_features=1, bias=True)\n",
    "\n",
    "    def forward(self, x):\n",
    "        return self.net(x)\n",
    "\n",
    "    def configure_optimizers(self):\n",
    "        optimizer = torch.optim.AdamW(self.parameters(), lr=lr, weight_decay=weight_decay)\n",
    "        scheduler = torch.optim.lr_scheduler.OneCycleLR(\n",
    "            max_lr=lr,\n",
    "            epochs=max_epochs,\n",
    "            optimizer=optimizer,\n",
    "            steps_per_epoch=int(len(ds_train) / batch_size),\n",
    "            pct_start=0.1,\n",
    "            div_factor=10,\n",
    "            final_div_factor=100,\n",
    "            base_momentum=0.90,\n",
    "            max_momentum=0.95,\n",
    "        )\n",
    "        return [optimizer], [scheduler]\n",
    "\n",
    "    def step(self, batch):\n",
    "        # return batch loss\n",
    "        x, y  = batch\n",
    "        y_hat = self(x).flatten()\n",
    "        y_smo = y.float() * (1 - label_smoothing) + 0.5 * label_smoothing\n",
    "        loss  = F.binary_cross_entropy_with_logits(y_hat, y_smo.type_as(y_hat),\n",
    "                                                   pos_weight=torch.tensor(pos_weight))\n",
    "        return loss, y, y_hat.sigmoid()\n",
    "\n",
    "    def training_step(self, batch, batch_nb):\n",
    "        # hardware agnostic training\n",
    "        loss, y, y_hat = self.step(batch)\n",
    "        acc = (y_hat.round() == y).float().mean().item()\n",
    "        tensorboard_logs = {'train_loss': loss, 'acc': acc}\n",
    "        return {'loss': loss, 'acc': acc, 'log': tensorboard_logs}\n",
    "\n",
    "    def validation_step(self, batch, batch_nb):\n",
    "        loss, y, y_hat = self.step(batch)\n",
    "        return {'val_loss': loss,\n",
    "                'y': y.detach(), 'y_hat': y_hat.detach()}\n",
    "\n",
    "    def validation_epoch_end(self, outputs):\n",
    "        avg_loss = torch.stack([x['val_loss'] for x in outputs]).mean()\n",
    "        y = torch.cat([x['y'] for x in outputs])\n",
    "        y_hat = torch.cat([x['y_hat'] for x in outputs])\n",
    "        auc = AUROC()(pred=y_hat, target=y) if y.float().mean() > 0 else 0.5 # skip sanity check\n",
    "        acc = (y_hat.round() == y).float().mean().item()\n",
    "        print(f\"Epoch {self.current_epoch} acc:{acc} auc:{auc}\")\n",
    "        tensorboard_logs = {'val_loss': avg_loss, 'val_auc': auc, 'val_acc': acc}\n",
    "        return {'avg_val_loss': avg_loss,\n",
    "                'val_auc': auc, 'val_acc': acc,\n",
    "                'log': tensorboard_logs}\n",
    "\n",
    "    def test_step(self, batch, batch_nb):\n",
    "        x, _ = batch\n",
    "        y_hat = self(x).flatten().sigmoid()\n",
    "        return {'y_hat': y_hat}\n",
    "\n",
    "    def test_epoch_end(self, outputs):\n",
    "        y_hat = torch.cat([x['y_hat'] for x in outputs])\n",
    "        assert len(df_test) == len(y_hat), f\"{len(df_test)} != {len(y_hat)}\"\n",
    "        df_test['target'] = y_hat.tolist()\n",
    "        N = len(glob(SAVE_DIR / 'submission*.csv'))\n",
    "        df_test.target.to_csv(SAVE_DIR / f'submission{N}.csv')\n",
    "        return {'tta': N}\n",
    "\n",
    "    def train_dataloader(self):\n",
    "        return DataLoader(ds_train, batch_size=batch_size, num_workers=num_workers,\n",
    "                          drop_last=True, shuffle=True, pin_memory=True)\n",
    "\n",
    "    def val_dataloader(self):\n",
    "        return DataLoader(ds_val, batch_size=batch_size, num_workers=num_workers,\n",
    "                          drop_last=False, shuffle=False, pin_memory=True)\n",
    "\n",
    "    def test_dataloader(self):\n",
    "        return DataLoader(ds_test, batch_size=batch_size, num_workers=num_workers,\n",
    "                          drop_last=False, shuffle=False, pin_memory=False)"
   ]
  },
  {
   "cell_type": "code",
   "execution_count": null,
   "metadata": {},
   "outputs": [],
   "source": [
    "for fold in range(5):\n",
    "    SAVE_DIR = OUT / f'pl/fold_{fold}'\n",
    "    checkpoint = sorted(list(SAVE_DIR.iterdir()), key=lambda x: float(x.stem.split('_')[-1]))[-1]\n",
    "    model = Model().load_from_checkpoint(str(checkpoint))\n",
    "    for _ in range(tta):\n",
    "        \n",
    "\n",
    "    "
   ]
  },
  {
   "cell_type": "code",
   "execution_count": 14,
   "metadata": {
    "_cell_guid": "79c7e3d0-c299-4dcb-8224-4455121ee9b0",
    "_uuid": "d629ff2d2480ee46fbb7e2d37f6b5fab8052498a",
    "id": "4AEUW-iB4qmT",
    "outputId": "49468221-86ef-4e7b-b627-7d51397fad08",
    "tags": []
   },
   "outputs": [
    {
     "output_type": "stream",
     "name": "stderr",
     "text": "GPU available: True, used: True\nTPU available: False, using: 0 TPU cores\nCUDA_VISIBLE_DEVICES: [0]\nUsing native 16bit precision.\n"
    }
   ],
   "source": [
    "trainer = pl.Trainer(default_root_dir=str(SAVE_DIR),\n",
    "                     tpu_cores=tpu_cores,\n",
    "                     gpus=gpus,\n",
    "                     precision=16 if gpus else 32,\n",
    "                     max_epochs=max_epochs)                        "
   ]
  },
  {
   "cell_type": "markdown",
   "metadata": {
    "id": "h4WrS30T4qmj"
   },
   "source": [
    "# Submission\n",
    "Infer on test set using a simple random TTA (test-time augmentation)"
   ]
  },
  {
   "cell_type": "code",
   "execution_count": 20,
   "metadata": {
    "_kg_hide-output": true,
    "tags": []
   },
   "outputs": [
    {
     "output_type": "display_data",
     "data": {
      "text/plain": "<IPython.core.display.HTML object>",
      "text/html": "\n    <div>\n        <style>\n            /* Turns off some styling */\n            progress {\n                /* gets rid of default border in Firefox and Opera. */\n                border: none;\n                /* Needs to be in here for Safari polyfill so background images work as expected. */\n                background-size: auto;\n            }\n            .progress-bar-interrupted, .progress-bar-interrupted::-webkit-progress-bar {\n                background: #F44336;\n            }\n        </style>\n      <progress value='0' class='' max='20' style='width:300px; height:20px; vertical-align: middle;'></progress>\n      \n    </div>\n    "
     },
     "metadata": {}
    },
    {
     "output_type": "display_data",
     "data": {
      "text/plain": "HBox(children=(FloatProgress(value=1.0, bar_style='info', description='Testing', layout=Layout(flex='2'), max=…",
      "application/vnd.jupyter.widget-view+json": {
       "version_major": 2,
       "version_minor": 0,
       "model_id": "ffc5647df202437bba2a7449b85c1404"
      }
     },
     "metadata": {}
    },
    {
     "output_type": "stream",
     "name": "stdout",
     "text": "--------------------------------------------------------------------------------\nTEST RESULTS\n{'tta': 0}\n--------------------------------------------------------------------------------\n\n"
    },
    {
     "output_type": "display_data",
     "data": {
      "text/plain": "HBox(children=(FloatProgress(value=1.0, bar_style='info', description='Testing', layout=Layout(flex='2'), max=…",
      "application/vnd.jupyter.widget-view+json": {
       "version_major": 2,
       "version_minor": 0,
       "model_id": "3cb9652ebab04825803f20ad3a44433b"
      }
     },
     "metadata": {}
    },
    {
     "output_type": "stream",
     "name": "stdout",
     "text": "--------------------------------------------------------------------------------\nTEST RESULTS\n{'tta': 1}\n--------------------------------------------------------------------------------\n\n"
    },
    {
     "output_type": "display_data",
     "data": {
      "text/plain": "HBox(children=(FloatProgress(value=1.0, bar_style='info', description='Testing', layout=Layout(flex='2'), max=…",
      "application/vnd.jupyter.widget-view+json": {
       "version_major": 2,
       "version_minor": 0,
       "model_id": "e9775492b5844b87b3ff274d1e53b04e"
      }
     },
     "metadata": {}
    },
    {
     "output_type": "stream",
     "name": "stdout",
     "text": "--------------------------------------------------------------------------------\nTEST RESULTS\n{'tta': 2}\n--------------------------------------------------------------------------------\n\n"
    },
    {
     "output_type": "display_data",
     "data": {
      "text/plain": "HBox(children=(FloatProgress(value=1.0, bar_style='info', description='Testing', layout=Layout(flex='2'), max=…",
      "application/vnd.jupyter.widget-view+json": {
       "version_major": 2,
       "version_minor": 0,
       "model_id": "38fa333fcc494f5e81e4ad6be92e24ad"
      }
     },
     "metadata": {}
    },
    {
     "output_type": "stream",
     "name": "stdout",
     "text": "--------------------------------------------------------------------------------\nTEST RESULTS\n{'tta': 3}\n--------------------------------------------------------------------------------\n\n"
    },
    {
     "output_type": "display_data",
     "data": {
      "text/plain": "HBox(children=(FloatProgress(value=1.0, bar_style='info', description='Testing', layout=Layout(flex='2'), max=…",
      "application/vnd.jupyter.widget-view+json": {
       "version_major": 2,
       "version_minor": 0,
       "model_id": "61ce0c392f6e4eeb938bd623783c40e5"
      }
     },
     "metadata": {}
    },
    {
     "output_type": "stream",
     "name": "stdout",
     "text": "--------------------------------------------------------------------------------\nTEST RESULTS\n{'tta': 4}\n--------------------------------------------------------------------------------\n\n"
    },
    {
     "output_type": "display_data",
     "data": {
      "text/plain": "HBox(children=(FloatProgress(value=1.0, bar_style='info', description='Testing', layout=Layout(flex='2'), max=…",
      "application/vnd.jupyter.widget-view+json": {
       "version_major": 2,
       "version_minor": 0,
       "model_id": "5f9f28b9b3fb4d9692a4a7237f2fe6ff"
      }
     },
     "metadata": {}
    },
    {
     "output_type": "stream",
     "name": "stdout",
     "text": "--------------------------------------------------------------------------------\nTEST RESULTS\n{'tta': 5}\n--------------------------------------------------------------------------------\n\n"
    },
    {
     "output_type": "display_data",
     "data": {
      "text/plain": "HBox(children=(FloatProgress(value=1.0, bar_style='info', description='Testing', layout=Layout(flex='2'), max=…",
      "application/vnd.jupyter.widget-view+json": {
       "version_major": 2,
       "version_minor": 0,
       "model_id": "918be548e67349798944e101d1e7555f"
      }
     },
     "metadata": {}
    },
    {
     "output_type": "stream",
     "name": "stdout",
     "text": "--------------------------------------------------------------------------------\nTEST RESULTS\n{'tta': 6}\n--------------------------------------------------------------------------------\n\n"
    },
    {
     "output_type": "display_data",
     "data": {
      "text/plain": "HBox(children=(FloatProgress(value=1.0, bar_style='info', description='Testing', layout=Layout(flex='2'), max=…",
      "application/vnd.jupyter.widget-view+json": {
       "version_major": 2,
       "version_minor": 0,
       "model_id": "b47a7d749144491a99392959a2cb2106"
      }
     },
     "metadata": {}
    },
    {
     "output_type": "stream",
     "name": "stdout",
     "text": "--------------------------------------------------------------------------------\nTEST RESULTS\n{'tta': 7}\n--------------------------------------------------------------------------------\n\n"
    },
    {
     "output_type": "display_data",
     "data": {
      "text/plain": "HBox(children=(FloatProgress(value=1.0, bar_style='info', description='Testing', layout=Layout(flex='2'), max=…",
      "application/vnd.jupyter.widget-view+json": {
       "version_major": 2,
       "version_minor": 0,
       "model_id": "52268555560941be968784a393245bb1"
      }
     },
     "metadata": {}
    },
    {
     "output_type": "stream",
     "name": "stdout",
     "text": "--------------------------------------------------------------------------------\nTEST RESULTS\n{'tta': 8}\n--------------------------------------------------------------------------------\n\n"
    },
    {
     "output_type": "display_data",
     "data": {
      "text/plain": "HBox(children=(FloatProgress(value=1.0, bar_style='info', description='Testing', layout=Layout(flex='2'), max=…",
      "application/vnd.jupyter.widget-view+json": {
       "version_major": 2,
       "version_minor": 0,
       "model_id": "8c73099a23054c27acc6c40e0a5b2717"
      }
     },
     "metadata": {}
    },
    {
     "output_type": "stream",
     "name": "stdout",
     "text": "--------------------------------------------------------------------------------\nTEST RESULTS\n{'tta': 9}\n--------------------------------------------------------------------------------\n\n"
    },
    {
     "output_type": "display_data",
     "data": {
      "text/plain": "HBox(children=(FloatProgress(value=1.0, bar_style='info', description='Testing', layout=Layout(flex='2'), max=…",
      "application/vnd.jupyter.widget-view+json": {
       "version_major": 2,
       "version_minor": 0,
       "model_id": "f9584736318740b2a11c8ddf864b71e8"
      }
     },
     "metadata": {}
    },
    {
     "output_type": "stream",
     "name": "stdout",
     "text": "--------------------------------------------------------------------------------\nTEST RESULTS\n{'tta': 10}\n--------------------------------------------------------------------------------\n\n"
    },
    {
     "output_type": "display_data",
     "data": {
      "text/plain": "HBox(children=(FloatProgress(value=1.0, bar_style='info', description='Testing', layout=Layout(flex='2'), max=…",
      "application/vnd.jupyter.widget-view+json": {
       "version_major": 2,
       "version_minor": 0,
       "model_id": "6f99f713403345619a46d4e782d66482"
      }
     },
     "metadata": {}
    },
    {
     "output_type": "stream",
     "name": "stdout",
     "text": "--------------------------------------------------------------------------------\nTEST RESULTS\n{'tta': 11}\n--------------------------------------------------------------------------------\n\n"
    },
    {
     "output_type": "display_data",
     "data": {
      "text/plain": "HBox(children=(FloatProgress(value=1.0, bar_style='info', description='Testing', layout=Layout(flex='2'), max=…",
      "application/vnd.jupyter.widget-view+json": {
       "version_major": 2,
       "version_minor": 0,
       "model_id": "a55a4d29e01e4cc4893a9cb877449107"
      }
     },
     "metadata": {}
    },
    {
     "output_type": "stream",
     "name": "stdout",
     "text": "--------------------------------------------------------------------------------\nTEST RESULTS\n{'tta': 12}\n--------------------------------------------------------------------------------\n\n"
    },
    {
     "output_type": "display_data",
     "data": {
      "text/plain": "HBox(children=(FloatProgress(value=1.0, bar_style='info', description='Testing', layout=Layout(flex='2'), max=…",
      "application/vnd.jupyter.widget-view+json": {
       "version_major": 2,
       "version_minor": 0,
       "model_id": "2fdc870284974fcc9809e359e6f44469"
      }
     },
     "metadata": {}
    },
    {
     "output_type": "stream",
     "name": "stdout",
     "text": "--------------------------------------------------------------------------------\nTEST RESULTS\n{'tta': 13}\n--------------------------------------------------------------------------------\n\n"
    },
    {
     "output_type": "display_data",
     "data": {
      "text/plain": "HBox(children=(FloatProgress(value=1.0, bar_style='info', description='Testing', layout=Layout(flex='2'), max=…",
      "application/vnd.jupyter.widget-view+json": {
       "version_major": 2,
       "version_minor": 0,
       "model_id": "26620b32a68b40c88d79a10e1bdd14b0"
      }
     },
     "metadata": {}
    },
    {
     "output_type": "stream",
     "name": "stdout",
     "text": "--------------------------------------------------------------------------------\nTEST RESULTS\n{'tta': 14}\n--------------------------------------------------------------------------------\n\n"
    },
    {
     "output_type": "display_data",
     "data": {
      "text/plain": "HBox(children=(FloatProgress(value=1.0, bar_style='info', description='Testing', layout=Layout(flex='2'), max=…",
      "application/vnd.jupyter.widget-view+json": {
       "version_major": 2,
       "version_minor": 0,
       "model_id": "33519301fafa40bb9869bcab5e24cd0c"
      }
     },
     "metadata": {}
    },
    {
     "output_type": "stream",
     "name": "stdout",
     "text": "--------------------------------------------------------------------------------\nTEST RESULTS\n{'tta': 15}\n--------------------------------------------------------------------------------\n\n"
    },
    {
     "output_type": "display_data",
     "data": {
      "text/plain": "HBox(children=(FloatProgress(value=1.0, bar_style='info', description='Testing', layout=Layout(flex='2'), max=…",
      "application/vnd.jupyter.widget-view+json": {
       "version_major": 2,
       "version_minor": 0,
       "model_id": "492d85100f9440dc9411d824773d97da"
      }
     },
     "metadata": {}
    },
    {
     "output_type": "stream",
     "name": "stdout",
     "text": "--------------------------------------------------------------------------------\nTEST RESULTS\n{'tta': 16}\n--------------------------------------------------------------------------------\n\n"
    },
    {
     "output_type": "display_data",
     "data": {
      "text/plain": "HBox(children=(FloatProgress(value=1.0, bar_style='info', description='Testing', layout=Layout(flex='2'), max=…",
      "application/vnd.jupyter.widget-view+json": {
       "version_major": 2,
       "version_minor": 0,
       "model_id": "51dc7035071d4d9a9b52cf74f9133128"
      }
     },
     "metadata": {}
    },
    {
     "output_type": "stream",
     "name": "stdout",
     "text": "--------------------------------------------------------------------------------\nTEST RESULTS\n{'tta': 17}\n--------------------------------------------------------------------------------\n\n"
    },
    {
     "output_type": "display_data",
     "data": {
      "text/plain": "HBox(children=(FloatProgress(value=1.0, bar_style='info', description='Testing', layout=Layout(flex='2'), max=…",
      "application/vnd.jupyter.widget-view+json": {
       "version_major": 2,
       "version_minor": 0,
       "model_id": "e0dafd2a2a8140df828fe9131ccd2834"
      }
     },
     "metadata": {}
    },
    {
     "output_type": "stream",
     "name": "stdout",
     "text": "--------------------------------------------------------------------------------\nTEST RESULTS\n{'tta': 18}\n--------------------------------------------------------------------------------\n\n"
    },
    {
     "output_type": "display_data",
     "data": {
      "text/plain": "HBox(children=(FloatProgress(value=1.0, bar_style='info', description='Testing', layout=Layout(flex='2'), max=…",
      "application/vnd.jupyter.widget-view+json": {
       "version_major": 2,
       "version_minor": 0,
       "model_id": "26d38a1f22f94016957f3cfbdede1ca0"
      }
     },
     "metadata": {}
    },
    {
     "output_type": "stream",
     "name": "stdout",
     "text": "--------------------------------------------------------------------------------\nTEST RESULTS\n{'tta': 19}\n--------------------------------------------------------------------------------\n\n"
    }
   ],
   "source": [
    "for _ in tqdm(range(tta), total=tta):\n",
    "     trainer.test(model)"
   ]
  },
  {
   "cell_type": "code",
   "execution_count": 29,
   "metadata": {
    "id": "2HEluAlSiRsr"
   },
   "outputs": [
    {
     "output_type": "execute_result",
     "data": {
      "text/plain": "count    10982.000000\nmean         0.090776\nstd          0.132495\nmin          0.000000\n25%          0.025434\n50%          0.045038\n75%          0.093338\nmax          1.000000\nName: target, dtype: float64"
     },
     "metadata": {},
     "execution_count": 29
    },
    {
     "output_type": "display_data",
     "data": {
      "text/plain": "<Figure size 432x288 with 2 Axes>",
      "image/svg+xml": "<?xml version=\"1.0\" encoding=\"utf-8\" standalone=\"no\"?>\n<!DOCTYPE svg PUBLIC \"-//W3C//DTD SVG 1.1//EN\"\n  \"http://www.w3.org/Graphics/SVG/1.1/DTD/svg11.dtd\">\n<!-- Created with matplotlib (https://matplotlib.org/) -->\n<svg height=\"263.63625pt\" version=\"1.1\" viewBox=\"0 0 375.134962 263.63625\" width=\"375.134962pt\" xmlns=\"http://www.w3.org/2000/svg\" xmlns:xlink=\"http://www.w3.org/1999/xlink\">\n <defs>\n  <style type=\"text/css\">\n*{stroke-linecap:butt;stroke-linejoin:round;}\n  </style>\n </defs>\n <g id=\"figure_1\">\n  <g id=\"patch_1\">\n   <path d=\"M 0 263.63625 \nL 375.134962 263.63625 \nL 375.134962 0 \nL 0 0 \nz\n\" style=\"fill:none;\"/>\n  </g>\n  <g id=\"axes_1\">\n   <g id=\"patch_2\">\n    <path d=\"M 31.8 239.758125 \nL 177.365217 239.758125 \nL 177.365217 22.318125 \nL 31.8 22.318125 \nz\n\" style=\"fill:#ffffff;\"/>\n   </g>\n   <g id=\"patch_3\">\n    <path clip-path=\"url(#p7441f9941d)\" d=\"M 38.416601 84221.19414 \nL 39.739921 84221.19414 \nL 39.739921 229.874489 \nL 38.416601 229.874489 \nz\n\" style=\"fill:#1f77b4;opacity:0.6;\"/>\n   </g>\n   <g id=\"patch_4\">\n    <path clip-path=\"url(#p7441f9941d)\" d=\"M 39.739921 84221.19414 \nL 41.063241 84221.19414 \nL 41.063241 84221.19414 \nL 39.739921 84221.19414 \nz\n\" style=\"fill:#1f77b4;opacity:0.6;\"/>\n   </g>\n   <g id=\"patch_5\">\n    <path clip-path=\"url(#p7441f9941d)\" d=\"M 41.063241 84221.19414 \nL 42.386561 84221.19414 \nL 42.386561 84221.19414 \nL 41.063241 84221.19414 \nz\n\" style=\"fill:#1f77b4;opacity:0.6;\"/>\n   </g>\n   <g id=\"patch_6\">\n    <path clip-path=\"url(#p7441f9941d)\" d=\"M 42.386561 84221.19414 \nL 43.709881 84221.19414 \nL 43.709881 84221.19414 \nL 42.386561 84221.19414 \nz\n\" style=\"fill:#1f77b4;opacity:0.6;\"/>\n   </g>\n   <g id=\"patch_7\">\n    <path clip-path=\"url(#p7441f9941d)\" d=\"M 43.709881 84221.19414 \nL 45.033202 84221.19414 \nL 45.033202 84221.19414 \nL 43.709881 84221.19414 \nz\n\" style=\"fill:#1f77b4;opacity:0.6;\"/>\n   </g>\n   <g id=\"patch_8\">\n    <path clip-path=\"url(#p7441f9941d)\" d=\"M 45.033202 84221.19414 \nL 46.356522 84221.19414 \nL 46.356522 84221.19414 \nL 45.033202 84221.19414 \nz\n\" style=\"fill:#1f77b4;opacity:0.6;\"/>\n   </g>\n   <g id=\"patch_9\">\n    <path clip-path=\"url(#p7441f9941d)\" d=\"M 46.356522 84221.19414 \nL 47.679842 84221.19414 \nL 47.679842 165.449989 \nL 46.356522 165.449989 \nz\n\" style=\"fill:#1f77b4;opacity:0.6;\"/>\n   </g>\n   <g id=\"patch_10\">\n    <path clip-path=\"url(#p7441f9941d)\" d=\"M 47.679842 84221.19414 \nL 49.003162 84221.19414 \nL 49.003162 84221.19414 \nL 47.679842 84221.19414 \nz\n\" style=\"fill:#1f77b4;opacity:0.6;\"/>\n   </g>\n   <g id=\"patch_11\">\n    <path clip-path=\"url(#p7441f9941d)\" d=\"M 49.003162 84221.19414 \nL 50.326482 84221.19414 \nL 50.326482 84221.19414 \nL 49.003162 84221.19414 \nz\n\" style=\"fill:#1f77b4;opacity:0.6;\"/>\n   </g>\n   <g id=\"patch_12\">\n    <path clip-path=\"url(#p7441f9941d)\" d=\"M 50.326482 84221.19414 \nL 51.649802 84221.19414 \nL 51.649802 84221.19414 \nL 50.326482 84221.19414 \nz\n\" style=\"fill:#1f77b4;opacity:0.6;\"/>\n   </g>\n   <g id=\"patch_13\">\n    <path clip-path=\"url(#p7441f9941d)\" d=\"M 51.649802 84221.19414 \nL 52.973123 84221.19414 \nL 52.973123 84221.19414 \nL 51.649802 84221.19414 \nz\n\" style=\"fill:#1f77b4;opacity:0.6;\"/>\n   </g>\n   <g id=\"patch_14\">\n    <path clip-path=\"url(#p7441f9941d)\" d=\"M 52.973123 84221.19414 \nL 54.296443 84221.19414 \nL 54.296443 84221.19414 \nL 52.973123 84221.19414 \nz\n\" style=\"fill:#1f77b4;opacity:0.6;\"/>\n   </g>\n   <g id=\"patch_15\">\n    <path clip-path=\"url(#p7441f9941d)\" d=\"M 54.296443 84221.19414 \nL 55.619763 84221.19414 \nL 55.619763 110.1416 \nL 54.296443 110.1416 \nz\n\" style=\"fill:#1f77b4;opacity:0.6;\"/>\n   </g>\n   <g id=\"patch_16\">\n    <path clip-path=\"url(#p7441f9941d)\" d=\"M 55.619763 84221.19414 \nL 56.943083 84221.19414 \nL 56.943083 84221.19414 \nL 55.619763 84221.19414 \nz\n\" style=\"fill:#1f77b4;opacity:0.6;\"/>\n   </g>\n   <g id=\"patch_17\">\n    <path clip-path=\"url(#p7441f9941d)\" d=\"M 56.943083 84221.19414 \nL 58.266403 84221.19414 \nL 58.266403 84221.19414 \nL 56.943083 84221.19414 \nz\n\" style=\"fill:#1f77b4;opacity:0.6;\"/>\n   </g>\n   <g id=\"patch_18\">\n    <path clip-path=\"url(#p7441f9941d)\" d=\"M 58.266403 84221.19414 \nL 59.589723 84221.19414 \nL 59.589723 84221.19414 \nL 58.266403 84221.19414 \nz\n\" style=\"fill:#1f77b4;opacity:0.6;\"/>\n   </g>\n   <g id=\"patch_19\">\n    <path clip-path=\"url(#p7441f9941d)\" d=\"M 59.589723 84221.19414 \nL 60.913043 84221.19414 \nL 60.913043 84221.19414 \nL 59.589723 84221.19414 \nz\n\" style=\"fill:#1f77b4;opacity:0.6;\"/>\n   </g>\n   <g id=\"patch_20\">\n    <path clip-path=\"url(#p7441f9941d)\" d=\"M 60.913043 84221.19414 \nL 62.236364 84221.19414 \nL 62.236364 84221.19414 \nL 60.913043 84221.19414 \nz\n\" style=\"fill:#1f77b4;opacity:0.6;\"/>\n   </g>\n   <g id=\"patch_21\">\n    <path clip-path=\"url(#p7441f9941d)\" d=\"M 62.236364 84221.19414 \nL 63.559684 84221.19414 \nL 63.559684 93.158238 \nL 62.236364 93.158238 \nz\n\" style=\"fill:#1f77b4;opacity:0.6;\"/>\n   </g>\n   <g id=\"patch_22\">\n    <path clip-path=\"url(#p7441f9941d)\" d=\"M 63.559684 84221.19414 \nL 64.883004 84221.19414 \nL 64.883004 84221.19414 \nL 63.559684 84221.19414 \nz\n\" style=\"fill:#1f77b4;opacity:0.6;\"/>\n   </g>\n   <g id=\"patch_23\">\n    <path clip-path=\"url(#p7441f9941d)\" d=\"M 64.883004 84221.19414 \nL 66.206324 84221.19414 \nL 66.206324 84221.19414 \nL 64.883004 84221.19414 \nz\n\" style=\"fill:#1f77b4;opacity:0.6;\"/>\n   </g>\n   <g id=\"patch_24\">\n    <path clip-path=\"url(#p7441f9941d)\" d=\"M 66.206324 84221.19414 \nL 67.529644 84221.19414 \nL 67.529644 84221.19414 \nL 66.206324 84221.19414 \nz\n\" style=\"fill:#1f77b4;opacity:0.6;\"/>\n   </g>\n   <g id=\"patch_25\">\n    <path clip-path=\"url(#p7441f9941d)\" d=\"M 67.529644 84221.19414 \nL 68.852964 84221.19414 \nL 68.852964 84221.19414 \nL 67.529644 84221.19414 \nz\n\" style=\"fill:#1f77b4;opacity:0.6;\"/>\n   </g>\n   <g id=\"patch_26\">\n    <path clip-path=\"url(#p7441f9941d)\" d=\"M 68.852964 84221.19414 \nL 70.176285 84221.19414 \nL 70.176285 84221.19414 \nL 68.852964 84221.19414 \nz\n\" style=\"fill:#1f77b4;opacity:0.6;\"/>\n   </g>\n   <g id=\"patch_27\">\n    <path clip-path=\"url(#p7441f9941d)\" d=\"M 70.176285 84221.19414 \nL 71.499605 84221.19414 \nL 71.499605 84221.19414 \nL 70.176285 84221.19414 \nz\n\" style=\"fill:#1f77b4;opacity:0.6;\"/>\n   </g>\n   <g id=\"patch_28\">\n    <path clip-path=\"url(#p7441f9941d)\" d=\"M 71.499605 84221.19414 \nL 72.822925 84221.19414 \nL 72.822925 61.929708 \nL 71.499605 61.929708 \nz\n\" style=\"fill:#1f77b4;opacity:0.6;\"/>\n   </g>\n   <g id=\"patch_29\">\n    <path clip-path=\"url(#p7441f9941d)\" d=\"M 72.822925 84221.19414 \nL 74.146245 84221.19414 \nL 74.146245 84221.19414 \nL 72.822925 84221.19414 \nz\n\" style=\"fill:#1f77b4;opacity:0.6;\"/>\n   </g>\n   <g id=\"patch_30\">\n    <path clip-path=\"url(#p7441f9941d)\" d=\"M 74.146245 84221.19414 \nL 75.469565 84221.19414 \nL 75.469565 84221.19414 \nL 74.146245 84221.19414 \nz\n\" style=\"fill:#1f77b4;opacity:0.6;\"/>\n   </g>\n   <g id=\"patch_31\">\n    <path clip-path=\"url(#p7441f9941d)\" d=\"M 75.469565 84221.19414 \nL 76.792885 84221.19414 \nL 76.792885 84221.19414 \nL 75.469565 84221.19414 \nz\n\" style=\"fill:#1f77b4;opacity:0.6;\"/>\n   </g>\n   <g id=\"patch_32\">\n    <path clip-path=\"url(#p7441f9941d)\" d=\"M 76.792885 84221.19414 \nL 78.116206 84221.19414 \nL 78.116206 84221.19414 \nL 76.792885 84221.19414 \nz\n\" style=\"fill:#1f77b4;opacity:0.6;\"/>\n   </g>\n   <g id=\"patch_33\">\n    <path clip-path=\"url(#p7441f9941d)\" d=\"M 78.116206 84221.19414 \nL 79.439526 84221.19414 \nL 79.439526 84221.19414 \nL 78.116206 84221.19414 \nz\n\" style=\"fill:#1f77b4;opacity:0.6;\"/>\n   </g>\n   <g id=\"patch_34\">\n    <path clip-path=\"url(#p7441f9941d)\" d=\"M 79.439526 84221.19414 \nL 80.762846 84221.19414 \nL 80.762846 47.886251 \nL 79.439526 47.886251 \nz\n\" style=\"fill:#1f77b4;opacity:0.6;\"/>\n   </g>\n   <g id=\"patch_35\">\n    <path clip-path=\"url(#p7441f9941d)\" d=\"M 80.762846 84221.19414 \nL 82.086166 84221.19414 \nL 82.086166 84221.19414 \nL 80.762846 84221.19414 \nz\n\" style=\"fill:#1f77b4;opacity:0.6;\"/>\n   </g>\n   <g id=\"patch_36\">\n    <path clip-path=\"url(#p7441f9941d)\" d=\"M 82.086166 84221.19414 \nL 83.409486 84221.19414 \nL 83.409486 84221.19414 \nL 82.086166 84221.19414 \nz\n\" style=\"fill:#1f77b4;opacity:0.6;\"/>\n   </g>\n   <g id=\"patch_37\">\n    <path clip-path=\"url(#p7441f9941d)\" d=\"M 83.409486 84221.19414 \nL 84.732806 84221.19414 \nL 84.732806 84221.19414 \nL 83.409486 84221.19414 \nz\n\" style=\"fill:#1f77b4;opacity:0.6;\"/>\n   </g>\n   <g id=\"patch_38\">\n    <path clip-path=\"url(#p7441f9941d)\" d=\"M 84.732806 84221.19414 \nL 86.056126 84221.19414 \nL 86.056126 84221.19414 \nL 84.732806 84221.19414 \nz\n\" style=\"fill:#1f77b4;opacity:0.6;\"/>\n   </g>\n   <g id=\"patch_39\">\n    <path clip-path=\"url(#p7441f9941d)\" d=\"M 86.056126 84221.19414 \nL 87.379447 84221.19414 \nL 87.379447 84221.19414 \nL 86.056126 84221.19414 \nz\n\" style=\"fill:#1f77b4;opacity:0.6;\"/>\n   </g>\n   <g id=\"patch_40\">\n    <path clip-path=\"url(#p7441f9941d)\" d=\"M 87.379447 84221.19414 \nL 88.702767 84221.19414 \nL 88.702767 35.441954 \nL 87.379447 35.441954 \nz\n\" style=\"fill:#1f77b4;opacity:0.6;\"/>\n   </g>\n   <g id=\"patch_41\">\n    <path clip-path=\"url(#p7441f9941d)\" d=\"M 88.702767 84221.19414 \nL 90.026087 84221.19414 \nL 90.026087 84221.19414 \nL 88.702767 84221.19414 \nz\n\" style=\"fill:#1f77b4;opacity:0.6;\"/>\n   </g>\n   <g id=\"patch_42\">\n    <path clip-path=\"url(#p7441f9941d)\" d=\"M 90.026087 84221.19414 \nL 91.349407 84221.19414 \nL 91.349407 84221.19414 \nL 90.026087 84221.19414 \nz\n\" style=\"fill:#1f77b4;opacity:0.6;\"/>\n   </g>\n   <g id=\"patch_43\">\n    <path clip-path=\"url(#p7441f9941d)\" d=\"M 91.349407 84221.19414 \nL 92.672727 84221.19414 \nL 92.672727 84221.19414 \nL 91.349407 84221.19414 \nz\n\" style=\"fill:#1f77b4;opacity:0.6;\"/>\n   </g>\n   <g id=\"patch_44\">\n    <path clip-path=\"url(#p7441f9941d)\" d=\"M 92.672727 84221.19414 \nL 93.996047 84221.19414 \nL 93.996047 84221.19414 \nL 92.672727 84221.19414 \nz\n\" style=\"fill:#1f77b4;opacity:0.6;\"/>\n   </g>\n   <g id=\"patch_45\">\n    <path clip-path=\"url(#p7441f9941d)\" d=\"M 93.996047 84221.19414 \nL 95.319368 84221.19414 \nL 95.319368 84221.19414 \nL 93.996047 84221.19414 \nz\n\" style=\"fill:#1f77b4;opacity:0.6;\"/>\n   </g>\n   <g id=\"patch_46\">\n    <path clip-path=\"url(#p7441f9941d)\" d=\"M 95.319368 84221.19414 \nL 96.642688 84221.19414 \nL 96.642688 32.201761 \nL 95.319368 32.201761 \nz\n\" style=\"fill:#1f77b4;opacity:0.6;\"/>\n   </g>\n   <g id=\"patch_47\">\n    <path clip-path=\"url(#p7441f9941d)\" d=\"M 96.642688 84221.19414 \nL 97.966008 84221.19414 \nL 97.966008 84221.19414 \nL 96.642688 84221.19414 \nz\n\" style=\"fill:#1f77b4;opacity:0.6;\"/>\n   </g>\n   <g id=\"patch_48\">\n    <path clip-path=\"url(#p7441f9941d)\" d=\"M 97.966008 84221.19414 \nL 99.289328 84221.19414 \nL 99.289328 84221.19414 \nL 97.966008 84221.19414 \nz\n\" style=\"fill:#1f77b4;opacity:0.6;\"/>\n   </g>\n   <g id=\"patch_49\">\n    <path clip-path=\"url(#p7441f9941d)\" d=\"M 99.289328 84221.19414 \nL 100.612648 84221.19414 \nL 100.612648 84221.19414 \nL 99.289328 84221.19414 \nz\n\" style=\"fill:#1f77b4;opacity:0.6;\"/>\n   </g>\n   <g id=\"patch_50\">\n    <path clip-path=\"url(#p7441f9941d)\" d=\"M 100.612648 84221.19414 \nL 101.935968 84221.19414 \nL 101.935968 84221.19414 \nL 100.612648 84221.19414 \nz\n\" style=\"fill:#1f77b4;opacity:0.6;\"/>\n   </g>\n   <g id=\"patch_51\">\n    <path clip-path=\"url(#p7441f9941d)\" d=\"M 101.935968 84221.19414 \nL 103.259289 84221.19414 \nL 103.259289 84221.19414 \nL 101.935968 84221.19414 \nz\n\" style=\"fill:#1f77b4;opacity:0.6;\"/>\n   </g>\n   <g id=\"patch_52\">\n    <path clip-path=\"url(#p7441f9941d)\" d=\"M 103.259289 84221.19414 \nL 104.582609 84221.19414 \nL 104.582609 84221.19414 \nL 103.259289 84221.19414 \nz\n\" style=\"fill:#1f77b4;opacity:0.6;\"/>\n   </g>\n   <g id=\"patch_53\">\n    <path clip-path=\"url(#p7441f9941d)\" d=\"M 104.582609 84221.19414 \nL 105.905929 84221.19414 \nL 105.905929 41.489384 \nL 104.582609 41.489384 \nz\n\" style=\"fill:#1f77b4;opacity:0.6;\"/>\n   </g>\n   <g id=\"patch_54\">\n    <path clip-path=\"url(#p7441f9941d)\" d=\"M 105.905929 84221.19414 \nL 107.229249 84221.19414 \nL 107.229249 84221.19414 \nL 105.905929 84221.19414 \nz\n\" style=\"fill:#1f77b4;opacity:0.6;\"/>\n   </g>\n   <g id=\"patch_55\">\n    <path clip-path=\"url(#p7441f9941d)\" d=\"M 107.229249 84221.19414 \nL 108.552569 84221.19414 \nL 108.552569 84221.19414 \nL 107.229249 84221.19414 \nz\n\" style=\"fill:#1f77b4;opacity:0.6;\"/>\n   </g>\n   <g id=\"patch_56\">\n    <path clip-path=\"url(#p7441f9941d)\" d=\"M 108.552569 84221.19414 \nL 109.875889 84221.19414 \nL 109.875889 84221.19414 \nL 108.552569 84221.19414 \nz\n\" style=\"fill:#1f77b4;opacity:0.6;\"/>\n   </g>\n   <g id=\"patch_57\">\n    <path clip-path=\"url(#p7441f9941d)\" d=\"M 109.875889 84221.19414 \nL 111.199209 84221.19414 \nL 111.199209 84221.19414 \nL 109.875889 84221.19414 \nz\n\" style=\"fill:#1f77b4;opacity:0.6;\"/>\n   </g>\n   <g id=\"patch_58\">\n    <path clip-path=\"url(#p7441f9941d)\" d=\"M 111.199209 84221.19414 \nL 112.52253 84221.19414 \nL 112.52253 84221.19414 \nL 111.199209 84221.19414 \nz\n\" style=\"fill:#1f77b4;opacity:0.6;\"/>\n   </g>\n   <g id=\"patch_59\">\n    <path clip-path=\"url(#p7441f9941d)\" d=\"M 112.52253 84221.19414 \nL 113.84585 84221.19414 \nL 113.84585 40.466779 \nL 112.52253 40.466779 \nz\n\" style=\"fill:#1f77b4;opacity:0.6;\"/>\n   </g>\n   <g id=\"patch_60\">\n    <path clip-path=\"url(#p7441f9941d)\" d=\"M 113.84585 84221.19414 \nL 115.16917 84221.19414 \nL 115.16917 84221.19414 \nL 113.84585 84221.19414 \nz\n\" style=\"fill:#1f77b4;opacity:0.6;\"/>\n   </g>\n   <g id=\"patch_61\">\n    <path clip-path=\"url(#p7441f9941d)\" d=\"M 115.16917 84221.19414 \nL 116.49249 84221.19414 \nL 116.49249 84221.19414 \nL 115.16917 84221.19414 \nz\n\" style=\"fill:#1f77b4;opacity:0.6;\"/>\n   </g>\n   <g id=\"patch_62\">\n    <path clip-path=\"url(#p7441f9941d)\" d=\"M 116.49249 84221.19414 \nL 117.81581 84221.19414 \nL 117.81581 84221.19414 \nL 116.49249 84221.19414 \nz\n\" style=\"fill:#1f77b4;opacity:0.6;\"/>\n   </g>\n   <g id=\"patch_63\">\n    <path clip-path=\"url(#p7441f9941d)\" d=\"M 117.81581 84221.19414 \nL 119.13913 84221.19414 \nL 119.13913 84221.19414 \nL 117.81581 84221.19414 \nz\n\" style=\"fill:#1f77b4;opacity:0.6;\"/>\n   </g>\n   <g id=\"patch_64\">\n    <path clip-path=\"url(#p7441f9941d)\" d=\"M 119.13913 84221.19414 \nL 120.462451 84221.19414 \nL 120.462451 84221.19414 \nL 119.13913 84221.19414 \nz\n\" style=\"fill:#1f77b4;opacity:0.6;\"/>\n   </g>\n   <g id=\"patch_65\">\n    <path clip-path=\"url(#p7441f9941d)\" d=\"M 120.462451 84221.19414 \nL 121.785771 84221.19414 \nL 121.785771 47.886251 \nL 120.462451 47.886251 \nz\n\" style=\"fill:#1f77b4;opacity:0.6;\"/>\n   </g>\n   <g id=\"patch_66\">\n    <path clip-path=\"url(#p7441f9941d)\" d=\"M 121.785771 84221.19414 \nL 123.109091 84221.19414 \nL 123.109091 84221.19414 \nL 121.785771 84221.19414 \nz\n\" style=\"fill:#1f77b4;opacity:0.6;\"/>\n   </g>\n   <g id=\"patch_67\">\n    <path clip-path=\"url(#p7441f9941d)\" d=\"M 123.109091 84221.19414 \nL 124.432411 84221.19414 \nL 124.432411 84221.19414 \nL 123.109091 84221.19414 \nz\n\" style=\"fill:#1f77b4;opacity:0.6;\"/>\n   </g>\n   <g id=\"patch_68\">\n    <path clip-path=\"url(#p7441f9941d)\" d=\"M 124.432411 84221.19414 \nL 125.755731 84221.19414 \nL 125.755731 84221.19414 \nL 124.432411 84221.19414 \nz\n\" style=\"fill:#1f77b4;opacity:0.6;\"/>\n   </g>\n   <g id=\"patch_69\">\n    <path clip-path=\"url(#p7441f9941d)\" d=\"M 125.755731 84221.19414 \nL 127.079051 84221.19414 \nL 127.079051 84221.19414 \nL 125.755731 84221.19414 \nz\n\" style=\"fill:#1f77b4;opacity:0.6;\"/>\n   </g>\n   <g id=\"patch_70\">\n    <path clip-path=\"url(#p7441f9941d)\" d=\"M 127.079051 84221.19414 \nL 128.402372 84221.19414 \nL 128.402372 84221.19414 \nL 127.079051 84221.19414 \nz\n\" style=\"fill:#1f77b4;opacity:0.6;\"/>\n   </g>\n   <g id=\"patch_71\">\n    <path clip-path=\"url(#p7441f9941d)\" d=\"M 128.402372 84221.19414 \nL 129.725692 84221.19414 \nL 129.725692 59.228756 \nL 128.402372 59.228756 \nz\n\" style=\"fill:#1f77b4;opacity:0.6;\"/>\n   </g>\n   <g id=\"patch_72\">\n    <path clip-path=\"url(#p7441f9941d)\" d=\"M 129.725692 84221.19414 \nL 131.049012 84221.19414 \nL 131.049012 84221.19414 \nL 129.725692 84221.19414 \nz\n\" style=\"fill:#1f77b4;opacity:0.6;\"/>\n   </g>\n   <g id=\"patch_73\">\n    <path clip-path=\"url(#p7441f9941d)\" d=\"M 131.049012 84221.19414 \nL 132.372332 84221.19414 \nL 132.372332 84221.19414 \nL 131.049012 84221.19414 \nz\n\" style=\"fill:#1f77b4;opacity:0.6;\"/>\n   </g>\n   <g id=\"patch_74\">\n    <path clip-path=\"url(#p7441f9941d)\" d=\"M 132.372332 84221.19414 \nL 133.695652 84221.19414 \nL 133.695652 84221.19414 \nL 132.372332 84221.19414 \nz\n\" style=\"fill:#1f77b4;opacity:0.6;\"/>\n   </g>\n   <g id=\"patch_75\">\n    <path clip-path=\"url(#p7441f9941d)\" d=\"M 133.695652 84221.19414 \nL 135.018972 84221.19414 \nL 135.018972 84221.19414 \nL 133.695652 84221.19414 \nz\n\" style=\"fill:#1f77b4;opacity:0.6;\"/>\n   </g>\n   <g id=\"patch_76\">\n    <path clip-path=\"url(#p7441f9941d)\" d=\"M 135.018972 84221.19414 \nL 136.342292 84221.19414 \nL 136.342292 84221.19414 \nL 135.018972 84221.19414 \nz\n\" style=\"fill:#1f77b4;opacity:0.6;\"/>\n   </g>\n   <g id=\"patch_77\">\n    <path clip-path=\"url(#p7441f9941d)\" d=\"M 136.342292 84221.19414 \nL 137.665613 84221.19414 \nL 137.665613 84221.19414 \nL 136.342292 84221.19414 \nz\n\" style=\"fill:#1f77b4;opacity:0.6;\"/>\n   </g>\n   <g id=\"patch_78\">\n    <path clip-path=\"url(#p7441f9941d)\" d=\"M 137.665613 84221.19414 \nL 138.988933 84221.19414 \nL 138.988933 56.489946 \nL 137.665613 56.489946 \nz\n\" style=\"fill:#1f77b4;opacity:0.6;\"/>\n   </g>\n   <g id=\"patch_79\">\n    <path clip-path=\"url(#p7441f9941d)\" d=\"M 138.988933 84221.19414 \nL 140.312253 84221.19414 \nL 140.312253 84221.19414 \nL 138.988933 84221.19414 \nz\n\" style=\"fill:#1f77b4;opacity:0.6;\"/>\n   </g>\n   <g id=\"patch_80\">\n    <path clip-path=\"url(#p7441f9941d)\" d=\"M 140.312253 84221.19414 \nL 141.635573 84221.19414 \nL 141.635573 84221.19414 \nL 140.312253 84221.19414 \nz\n\" style=\"fill:#1f77b4;opacity:0.6;\"/>\n   </g>\n   <g id=\"patch_81\">\n    <path clip-path=\"url(#p7441f9941d)\" d=\"M 141.635573 84221.19414 \nL 142.958893 84221.19414 \nL 142.958893 84221.19414 \nL 141.635573 84221.19414 \nz\n\" style=\"fill:#1f77b4;opacity:0.6;\"/>\n   </g>\n   <g id=\"patch_82\">\n    <path clip-path=\"url(#p7441f9941d)\" d=\"M 142.958893 84221.19414 \nL 144.282213 84221.19414 \nL 144.282213 84221.19414 \nL 142.958893 84221.19414 \nz\n\" style=\"fill:#1f77b4;opacity:0.6;\"/>\n   </g>\n   <g id=\"patch_83\">\n    <path clip-path=\"url(#p7441f9941d)\" d=\"M 144.282213 84221.19414 \nL 145.605534 84221.19414 \nL 145.605534 84221.19414 \nL 144.282213 84221.19414 \nz\n\" style=\"fill:#1f77b4;opacity:0.6;\"/>\n   </g>\n   <g id=\"patch_84\">\n    <path clip-path=\"url(#p7441f9941d)\" d=\"M 145.605534 84221.19414 \nL 146.928854 84221.19414 \nL 146.928854 107.510322 \nL 145.605534 107.510322 \nz\n\" style=\"fill:#1f77b4;opacity:0.6;\"/>\n   </g>\n   <g id=\"patch_85\">\n    <path clip-path=\"url(#p7441f9941d)\" d=\"M 146.928854 84221.19414 \nL 148.252174 84221.19414 \nL 148.252174 84221.19414 \nL 146.928854 84221.19414 \nz\n\" style=\"fill:#1f77b4;opacity:0.6;\"/>\n   </g>\n   <g id=\"patch_86\">\n    <path clip-path=\"url(#p7441f9941d)\" d=\"M 148.252174 84221.19414 \nL 149.575494 84221.19414 \nL 149.575494 84221.19414 \nL 148.252174 84221.19414 \nz\n\" style=\"fill:#1f77b4;opacity:0.6;\"/>\n   </g>\n   <g id=\"patch_87\">\n    <path clip-path=\"url(#p7441f9941d)\" d=\"M 149.575494 84221.19414 \nL 150.898814 84221.19414 \nL 150.898814 84221.19414 \nL 149.575494 84221.19414 \nz\n\" style=\"fill:#1f77b4;opacity:0.6;\"/>\n   </g>\n   <g id=\"patch_88\">\n    <path clip-path=\"url(#p7441f9941d)\" d=\"M 150.898814 84221.19414 \nL 152.222134 84221.19414 \nL 152.222134 84221.19414 \nL 150.898814 84221.19414 \nz\n\" style=\"fill:#1f77b4;opacity:0.6;\"/>\n   </g>\n   <g id=\"patch_89\">\n    <path clip-path=\"url(#p7441f9941d)\" d=\"M 152.222134 84221.19414 \nL 153.545455 84221.19414 \nL 153.545455 84221.19414 \nL 152.222134 84221.19414 \nz\n\" style=\"fill:#1f77b4;opacity:0.6;\"/>\n   </g>\n   <g id=\"patch_90\">\n    <path clip-path=\"url(#p7441f9941d)\" d=\"M 153.545455 84221.19414 \nL 154.868775 84221.19414 \nL 154.868775 106.438298 \nL 153.545455 106.438298 \nz\n\" style=\"fill:#1f77b4;opacity:0.6;\"/>\n   </g>\n   <g id=\"patch_91\">\n    <path clip-path=\"url(#p7441f9941d)\" d=\"M 154.868775 84221.19414 \nL 156.192095 84221.19414 \nL 156.192095 84221.19414 \nL 154.868775 84221.19414 \nz\n\" style=\"fill:#1f77b4;opacity:0.6;\"/>\n   </g>\n   <g id=\"patch_92\">\n    <path clip-path=\"url(#p7441f9941d)\" d=\"M 156.192095 84221.19414 \nL 157.515415 84221.19414 \nL 157.515415 84221.19414 \nL 156.192095 84221.19414 \nz\n\" style=\"fill:#1f77b4;opacity:0.6;\"/>\n   </g>\n   <g id=\"patch_93\">\n    <path clip-path=\"url(#p7441f9941d)\" d=\"M 157.515415 84221.19414 \nL 158.838735 84221.19414 \nL 158.838735 84221.19414 \nL 157.515415 84221.19414 \nz\n\" style=\"fill:#1f77b4;opacity:0.6;\"/>\n   </g>\n   <g id=\"patch_94\">\n    <path clip-path=\"url(#p7441f9941d)\" d=\"M 158.838735 84221.19414 \nL 160.162055 84221.19414 \nL 160.162055 84221.19414 \nL 158.838735 84221.19414 \nz\n\" style=\"fill:#1f77b4;opacity:0.6;\"/>\n   </g>\n   <g id=\"patch_95\">\n    <path clip-path=\"url(#p7441f9941d)\" d=\"M 160.162055 84221.19414 \nL 161.485375 84221.19414 \nL 161.485375 84221.19414 \nL 160.162055 84221.19414 \nz\n\" style=\"fill:#1f77b4;opacity:0.6;\"/>\n   </g>\n   <g id=\"patch_96\">\n    <path clip-path=\"url(#p7441f9941d)\" d=\"M 161.485375 84221.19414 \nL 162.808696 84221.19414 \nL 162.808696 116.747562 \nL 161.485375 116.747562 \nz\n\" style=\"fill:#1f77b4;opacity:0.6;\"/>\n   </g>\n   <g id=\"patch_97\">\n    <path clip-path=\"url(#p7441f9941d)\" d=\"M 162.808696 84221.19414 \nL 164.132016 84221.19414 \nL 164.132016 84221.19414 \nL 162.808696 84221.19414 \nz\n\" style=\"fill:#1f77b4;opacity:0.6;\"/>\n   </g>\n   <g id=\"patch_98\">\n    <path clip-path=\"url(#p7441f9941d)\" d=\"M 164.132016 84221.19414 \nL 165.455336 84221.19414 \nL 165.455336 84221.19414 \nL 164.132016 84221.19414 \nz\n\" style=\"fill:#1f77b4;opacity:0.6;\"/>\n   </g>\n   <g id=\"patch_99\">\n    <path clip-path=\"url(#p7441f9941d)\" d=\"M 165.455336 84221.19414 \nL 166.778656 84221.19414 \nL 166.778656 84221.19414 \nL 165.455336 84221.19414 \nz\n\" style=\"fill:#1f77b4;opacity:0.6;\"/>\n   </g>\n   <g id=\"patch_100\">\n    <path clip-path=\"url(#p7441f9941d)\" d=\"M 166.778656 84221.19414 \nL 168.101976 84221.19414 \nL 168.101976 84221.19414 \nL 166.778656 84221.19414 \nz\n\" style=\"fill:#1f77b4;opacity:0.6;\"/>\n   </g>\n   <g id=\"patch_101\">\n    <path clip-path=\"url(#p7441f9941d)\" d=\"M 168.101976 84221.19414 \nL 169.425296 84221.19414 \nL 169.425296 84221.19414 \nL 168.101976 84221.19414 \nz\n\" style=\"fill:#1f77b4;opacity:0.6;\"/>\n   </g>\n   <g id=\"patch_102\">\n    <path clip-path=\"url(#p7441f9941d)\" d=\"M 169.425296 84221.19414 \nL 170.748617 84221.19414 \nL 170.748617 204.611931 \nL 169.425296 204.611931 \nz\n\" style=\"fill:#1f77b4;opacity:0.6;\"/>\n   </g>\n   <g id=\"matplotlib.axis_1\">\n    <g id=\"xtick_1\">\n     <g id=\"line2d_1\">\n      <path clip-path=\"url(#p7441f9941d)\" d=\"M 63.228854 239.758125 \nL 63.228854 22.318125 \n\" style=\"fill:none;stroke:#b0b0b0;stroke-linecap:square;stroke-width:0.8;\"/>\n     </g>\n     <g id=\"line2d_2\">\n      <defs>\n       <path d=\"M 0 0 \nL 0 3.5 \n\" id=\"me596f77ea3\" style=\"stroke:#000000;stroke-width:0.8;\"/>\n      </defs>\n      <g>\n       <use style=\"stroke:#000000;stroke-width:0.8;\" x=\"63.228854\" xlink:href=\"#me596f77ea3\" y=\"239.758125\"/>\n      </g>\n     </g>\n     <g id=\"text_1\">\n      <!-- 25 -->\n      <defs>\n       <path d=\"M 19.1875 8.296875 \nL 53.609375 8.296875 \nL 53.609375 0 \nL 7.328125 0 \nL 7.328125 8.296875 \nQ 12.9375 14.109375 22.625 23.890625 \nQ 32.328125 33.6875 34.8125 36.53125 \nQ 39.546875 41.84375 41.421875 45.53125 \nQ 43.3125 49.21875 43.3125 52.78125 \nQ 43.3125 58.59375 39.234375 62.25 \nQ 35.15625 65.921875 28.609375 65.921875 \nQ 23.96875 65.921875 18.8125 64.3125 \nQ 13.671875 62.703125 7.8125 59.421875 \nL 7.8125 69.390625 \nQ 13.765625 71.78125 18.9375 73 \nQ 24.125 74.21875 28.421875 74.21875 \nQ 39.75 74.21875 46.484375 68.546875 \nQ 53.21875 62.890625 53.21875 53.421875 \nQ 53.21875 48.921875 51.53125 44.890625 \nQ 49.859375 40.875 45.40625 35.40625 \nQ 44.1875 33.984375 37.640625 27.21875 \nQ 31.109375 20.453125 19.1875 8.296875 \nz\n\" id=\"DejaVuSans-50\"/>\n       <path d=\"M 10.796875 72.90625 \nL 49.515625 72.90625 \nL 49.515625 64.59375 \nL 19.828125 64.59375 \nL 19.828125 46.734375 \nQ 21.96875 47.46875 24.109375 47.828125 \nQ 26.265625 48.1875 28.421875 48.1875 \nQ 40.625 48.1875 47.75 41.5 \nQ 54.890625 34.8125 54.890625 23.390625 \nQ 54.890625 11.625 47.5625 5.09375 \nQ 40.234375 -1.421875 26.90625 -1.421875 \nQ 22.3125 -1.421875 17.546875 -0.640625 \nQ 12.796875 0.140625 7.71875 1.703125 \nL 7.71875 11.625 \nQ 12.109375 9.234375 16.796875 8.0625 \nQ 21.484375 6.890625 26.703125 6.890625 \nQ 35.15625 6.890625 40.078125 11.328125 \nQ 45.015625 15.765625 45.015625 23.390625 \nQ 45.015625 31 40.078125 35.4375 \nQ 35.15625 39.890625 26.703125 39.890625 \nQ 22.75 39.890625 18.8125 39.015625 \nQ 14.890625 38.140625 10.796875 36.28125 \nz\n\" id=\"DejaVuSans-53\"/>\n      </defs>\n      <g transform=\"translate(56.866354 254.356563)scale(0.1 -0.1)\">\n       <use xlink:href=\"#DejaVuSans-50\"/>\n       <use x=\"63.623047\" xlink:href=\"#DejaVuSans-53\"/>\n      </g>\n     </g>\n    </g>\n    <g id=\"xtick_2\">\n     <g id=\"line2d_3\">\n      <path clip-path=\"url(#p7441f9941d)\" d=\"M 104.582609 239.758125 \nL 104.582609 22.318125 \n\" style=\"fill:none;stroke:#b0b0b0;stroke-linecap:square;stroke-width:0.8;\"/>\n     </g>\n     <g id=\"line2d_4\">\n      <g>\n       <use style=\"stroke:#000000;stroke-width:0.8;\" x=\"104.582609\" xlink:href=\"#me596f77ea3\" y=\"239.758125\"/>\n      </g>\n     </g>\n     <g id=\"text_2\">\n      <!-- 50 -->\n      <defs>\n       <path d=\"M 31.78125 66.40625 \nQ 24.171875 66.40625 20.328125 58.90625 \nQ 16.5 51.421875 16.5 36.375 \nQ 16.5 21.390625 20.328125 13.890625 \nQ 24.171875 6.390625 31.78125 6.390625 \nQ 39.453125 6.390625 43.28125 13.890625 \nQ 47.125 21.390625 47.125 36.375 \nQ 47.125 51.421875 43.28125 58.90625 \nQ 39.453125 66.40625 31.78125 66.40625 \nz\nM 31.78125 74.21875 \nQ 44.046875 74.21875 50.515625 64.515625 \nQ 56.984375 54.828125 56.984375 36.375 \nQ 56.984375 17.96875 50.515625 8.265625 \nQ 44.046875 -1.421875 31.78125 -1.421875 \nQ 19.53125 -1.421875 13.0625 8.265625 \nQ 6.59375 17.96875 6.59375 36.375 \nQ 6.59375 54.828125 13.0625 64.515625 \nQ 19.53125 74.21875 31.78125 74.21875 \nz\n\" id=\"DejaVuSans-48\"/>\n      </defs>\n      <g transform=\"translate(98.220109 254.356563)scale(0.1 -0.1)\">\n       <use xlink:href=\"#DejaVuSans-53\"/>\n       <use x=\"63.623047\" xlink:href=\"#DejaVuSans-48\"/>\n      </g>\n     </g>\n    </g>\n    <g id=\"xtick_3\">\n     <g id=\"line2d_5\">\n      <path clip-path=\"url(#p7441f9941d)\" d=\"M 145.936364 239.758125 \nL 145.936364 22.318125 \n\" style=\"fill:none;stroke:#b0b0b0;stroke-linecap:square;stroke-width:0.8;\"/>\n     </g>\n     <g id=\"line2d_6\">\n      <g>\n       <use style=\"stroke:#000000;stroke-width:0.8;\" x=\"145.936364\" xlink:href=\"#me596f77ea3\" y=\"239.758125\"/>\n      </g>\n     </g>\n     <g id=\"text_3\">\n      <!-- 75 -->\n      <defs>\n       <path d=\"M 8.203125 72.90625 \nL 55.078125 72.90625 \nL 55.078125 68.703125 \nL 28.609375 0 \nL 18.3125 0 \nL 43.21875 64.59375 \nL 8.203125 64.59375 \nz\n\" id=\"DejaVuSans-55\"/>\n      </defs>\n      <g transform=\"translate(139.573864 254.356563)scale(0.1 -0.1)\">\n       <use xlink:href=\"#DejaVuSans-55\"/>\n       <use x=\"63.623047\" xlink:href=\"#DejaVuSans-53\"/>\n      </g>\n     </g>\n    </g>\n   </g>\n   <g id=\"matplotlib.axis_2\">\n    <g id=\"ytick_1\">\n     <g id=\"line2d_7\">\n      <path clip-path=\"url(#p7441f9941d)\" d=\"M 31.8 216.875054 \nL 177.365217 216.875054 \n\" style=\"fill:none;stroke:#b0b0b0;stroke-linecap:square;stroke-width:0.8;\"/>\n     </g>\n     <g id=\"line2d_8\">\n      <defs>\n       <path d=\"M 0 0 \nL -3.5 0 \n\" id=\"m0cd4a06844\" style=\"stroke:#000000;stroke-width:0.8;\"/>\n      </defs>\n      <g>\n       <use style=\"stroke:#000000;stroke-width:0.8;\" x=\"31.8\" xlink:href=\"#m0cd4a06844\" y=\"216.875054\"/>\n      </g>\n     </g>\n     <g id=\"text_4\">\n      <!-- $\\mathdefault{10^{1}}$ -->\n      <defs>\n       <path d=\"M 12.40625 8.296875 \nL 28.515625 8.296875 \nL 28.515625 63.921875 \nL 10.984375 60.40625 \nL 10.984375 69.390625 \nL 28.421875 72.90625 \nL 38.28125 72.90625 \nL 38.28125 8.296875 \nL 54.390625 8.296875 \nL 54.390625 0 \nL 12.40625 0 \nz\n\" id=\"DejaVuSans-49\"/>\n      </defs>\n      <g transform=\"translate(7.2 220.674273)scale(0.1 -0.1)\">\n       <use transform=\"translate(0 0.684375)\" xlink:href=\"#DejaVuSans-49\"/>\n       <use transform=\"translate(63.623047 0.684375)\" xlink:href=\"#DejaVuSans-48\"/>\n       <use transform=\"translate(128.203125 38.965625)scale(0.7)\" xlink:href=\"#DejaVuSans-49\"/>\n      </g>\n     </g>\n    </g>\n    <g id=\"ytick_2\">\n     <g id=\"line2d_9\">\n      <path clip-path=\"url(#p7441f9941d)\" d=\"M 31.8 132.954656 \nL 177.365217 132.954656 \n\" style=\"fill:none;stroke:#b0b0b0;stroke-linecap:square;stroke-width:0.8;\"/>\n     </g>\n     <g id=\"line2d_10\">\n      <g>\n       <use style=\"stroke:#000000;stroke-width:0.8;\" x=\"31.8\" xlink:href=\"#m0cd4a06844\" y=\"132.954656\"/>\n      </g>\n     </g>\n     <g id=\"text_5\">\n      <!-- $\\mathdefault{10^{2}}$ -->\n      <g transform=\"translate(7.2 136.753874)scale(0.1 -0.1)\">\n       <use transform=\"translate(0 0.765625)\" xlink:href=\"#DejaVuSans-49\"/>\n       <use transform=\"translate(63.623047 0.765625)\" xlink:href=\"#DejaVuSans-48\"/>\n       <use transform=\"translate(128.203125 39.046875)scale(0.7)\" xlink:href=\"#DejaVuSans-50\"/>\n      </g>\n     </g>\n    </g>\n    <g id=\"ytick_3\">\n     <g id=\"line2d_11\">\n      <path clip-path=\"url(#p7441f9941d)\" d=\"M 31.8 49.034257 \nL 177.365217 49.034257 \n\" style=\"fill:none;stroke:#b0b0b0;stroke-linecap:square;stroke-width:0.8;\"/>\n     </g>\n     <g id=\"line2d_12\">\n      <g>\n       <use style=\"stroke:#000000;stroke-width:0.8;\" x=\"31.8\" xlink:href=\"#m0cd4a06844\" y=\"49.034257\"/>\n      </g>\n     </g>\n     <g id=\"text_6\">\n      <!-- $\\mathdefault{10^{3}}$ -->\n      <defs>\n       <path d=\"M 40.578125 39.3125 \nQ 47.65625 37.796875 51.625 33 \nQ 55.609375 28.21875 55.609375 21.1875 \nQ 55.609375 10.40625 48.1875 4.484375 \nQ 40.765625 -1.421875 27.09375 -1.421875 \nQ 22.515625 -1.421875 17.65625 -0.515625 \nQ 12.796875 0.390625 7.625 2.203125 \nL 7.625 11.71875 \nQ 11.71875 9.328125 16.59375 8.109375 \nQ 21.484375 6.890625 26.8125 6.890625 \nQ 36.078125 6.890625 40.9375 10.546875 \nQ 45.796875 14.203125 45.796875 21.1875 \nQ 45.796875 27.640625 41.28125 31.265625 \nQ 36.765625 34.90625 28.71875 34.90625 \nL 20.21875 34.90625 \nL 20.21875 43.015625 \nL 29.109375 43.015625 \nQ 36.375 43.015625 40.234375 45.921875 \nQ 44.09375 48.828125 44.09375 54.296875 \nQ 44.09375 59.90625 40.109375 62.90625 \nQ 36.140625 65.921875 28.71875 65.921875 \nQ 24.65625 65.921875 20.015625 65.03125 \nQ 15.375 64.15625 9.8125 62.3125 \nL 9.8125 71.09375 \nQ 15.4375 72.65625 20.34375 73.4375 \nQ 25.25 74.21875 29.59375 74.21875 \nQ 40.828125 74.21875 47.359375 69.109375 \nQ 53.90625 64.015625 53.90625 55.328125 \nQ 53.90625 49.265625 50.4375 45.09375 \nQ 46.96875 40.921875 40.578125 39.3125 \nz\n\" id=\"DejaVuSans-51\"/>\n      </defs>\n      <g transform=\"translate(7.2 52.833476)scale(0.1 -0.1)\">\n       <use transform=\"translate(0 0.765625)\" xlink:href=\"#DejaVuSans-49\"/>\n       <use transform=\"translate(63.623047 0.765625)\" xlink:href=\"#DejaVuSans-48\"/>\n       <use transform=\"translate(128.203125 39.046875)scale(0.7)\" xlink:href=\"#DejaVuSans-51\"/>\n      </g>\n     </g>\n    </g>\n    <g id=\"ytick_4\">\n     <g id=\"line2d_13\">\n      <defs>\n       <path d=\"M 0 0 \nL -2 0 \n\" id=\"m0411a70b3d\" style=\"stroke:#000000;stroke-width:0.6;\"/>\n      </defs>\n      <g>\n       <use style=\"stroke:#000000;stroke-width:0.6;\" x=\"31.8\" xlink:href=\"#m0411a70b3d\" y=\"235.49269\"/>\n      </g>\n     </g>\n    </g>\n    <g id=\"ytick_5\">\n     <g id=\"line2d_14\">\n      <g>\n       <use style=\"stroke:#000000;stroke-width:0.6;\" x=\"31.8\" xlink:href=\"#m0411a70b3d\" y=\"229.874489\"/>\n      </g>\n     </g>\n    </g>\n    <g id=\"ytick_6\">\n     <g id=\"line2d_15\">\n      <g>\n       <use style=\"stroke:#000000;stroke-width:0.6;\" x=\"31.8\" xlink:href=\"#m0411a70b3d\" y=\"225.007781\"/>\n      </g>\n     </g>\n    </g>\n    <g id=\"ytick_7\">\n     <g id=\"line2d_16\">\n      <g>\n       <use style=\"stroke:#000000;stroke-width:0.6;\" x=\"31.8\" xlink:href=\"#m0411a70b3d\" y=\"220.715041\"/>\n      </g>\n     </g>\n    </g>\n    <g id=\"ytick_8\">\n     <g id=\"line2d_17\">\n      <g>\n       <use style=\"stroke:#000000;stroke-width:0.6;\" x=\"31.8\" xlink:href=\"#m0411a70b3d\" y=\"191.612497\"/>\n      </g>\n     </g>\n    </g>\n    <g id=\"ytick_9\">\n     <g id=\"line2d_18\">\n      <g>\n       <use style=\"stroke:#000000;stroke-width:0.6;\" x=\"31.8\" xlink:href=\"#m0411a70b3d\" y=\"176.834848\"/>\n      </g>\n     </g>\n    </g>\n    <g id=\"ytick_10\">\n     <g id=\"line2d_19\">\n      <g>\n       <use style=\"stroke:#000000;stroke-width:0.6;\" x=\"31.8\" xlink:href=\"#m0411a70b3d\" y=\"166.34994\"/>\n      </g>\n     </g>\n    </g>\n    <g id=\"ytick_11\">\n     <g id=\"line2d_20\">\n      <g>\n       <use style=\"stroke:#000000;stroke-width:0.6;\" x=\"31.8\" xlink:href=\"#m0411a70b3d\" y=\"158.217213\"/>\n      </g>\n     </g>\n    </g>\n    <g id=\"ytick_12\">\n     <g id=\"line2d_21\">\n      <g>\n       <use style=\"stroke:#000000;stroke-width:0.6;\" x=\"31.8\" xlink:href=\"#m0411a70b3d\" y=\"151.572291\"/>\n      </g>\n     </g>\n    </g>\n    <g id=\"ytick_13\">\n     <g id=\"line2d_22\">\n      <g>\n       <use style=\"stroke:#000000;stroke-width:0.6;\" x=\"31.8\" xlink:href=\"#m0411a70b3d\" y=\"145.95409\"/>\n      </g>\n     </g>\n    </g>\n    <g id=\"ytick_14\">\n     <g id=\"line2d_23\">\n      <g>\n       <use style=\"stroke:#000000;stroke-width:0.6;\" x=\"31.8\" xlink:href=\"#m0411a70b3d\" y=\"141.087383\"/>\n      </g>\n     </g>\n    </g>\n    <g id=\"ytick_15\">\n     <g id=\"line2d_24\">\n      <g>\n       <use style=\"stroke:#000000;stroke-width:0.6;\" x=\"31.8\" xlink:href=\"#m0411a70b3d\" y=\"136.794643\"/>\n      </g>\n     </g>\n    </g>\n    <g id=\"ytick_16\">\n     <g id=\"line2d_25\">\n      <g>\n       <use style=\"stroke:#000000;stroke-width:0.6;\" x=\"31.8\" xlink:href=\"#m0411a70b3d\" y=\"107.692098\"/>\n      </g>\n     </g>\n    </g>\n    <g id=\"ytick_17\">\n     <g id=\"line2d_26\">\n      <g>\n       <use style=\"stroke:#000000;stroke-width:0.6;\" x=\"31.8\" xlink:href=\"#m0411a70b3d\" y=\"92.91445\"/>\n      </g>\n     </g>\n    </g>\n    <g id=\"ytick_18\">\n     <g id=\"line2d_27\">\n      <g>\n       <use style=\"stroke:#000000;stroke-width:0.6;\" x=\"31.8\" xlink:href=\"#m0411a70b3d\" y=\"82.429541\"/>\n      </g>\n     </g>\n    </g>\n    <g id=\"ytick_19\">\n     <g id=\"line2d_28\">\n      <g>\n       <use style=\"stroke:#000000;stroke-width:0.6;\" x=\"31.8\" xlink:href=\"#m0411a70b3d\" y=\"74.296814\"/>\n      </g>\n     </g>\n    </g>\n    <g id=\"ytick_20\">\n     <g id=\"line2d_29\">\n      <g>\n       <use style=\"stroke:#000000;stroke-width:0.6;\" x=\"31.8\" xlink:href=\"#m0411a70b3d\" y=\"67.651893\"/>\n      </g>\n     </g>\n    </g>\n    <g id=\"ytick_21\">\n     <g id=\"line2d_30\">\n      <g>\n       <use style=\"stroke:#000000;stroke-width:0.6;\" x=\"31.8\" xlink:href=\"#m0411a70b3d\" y=\"62.033691\"/>\n      </g>\n     </g>\n    </g>\n    <g id=\"ytick_22\">\n     <g id=\"line2d_31\">\n      <g>\n       <use style=\"stroke:#000000;stroke-width:0.6;\" x=\"31.8\" xlink:href=\"#m0411a70b3d\" y=\"57.166984\"/>\n      </g>\n     </g>\n    </g>\n    <g id=\"ytick_23\">\n     <g id=\"line2d_32\">\n      <g>\n       <use style=\"stroke:#000000;stroke-width:0.6;\" x=\"31.8\" xlink:href=\"#m0411a70b3d\" y=\"52.874244\"/>\n      </g>\n     </g>\n    </g>\n    <g id=\"ytick_24\">\n     <g id=\"line2d_33\">\n      <g>\n       <use style=\"stroke:#000000;stroke-width:0.6;\" x=\"31.8\" xlink:href=\"#m0411a70b3d\" y=\"23.7717\"/>\n      </g>\n     </g>\n    </g>\n   </g>\n   <g id=\"patch_103\">\n    <path d=\"M 31.8 239.758125 \nL 31.8 22.318125 \n\" style=\"fill:none;stroke:#000000;stroke-linecap:square;stroke-linejoin:miter;stroke-width:0.8;\"/>\n   </g>\n   <g id=\"patch_104\">\n    <path d=\"M 177.365217 239.758125 \nL 177.365217 22.318125 \n\" style=\"fill:none;stroke:#000000;stroke-linecap:square;stroke-linejoin:miter;stroke-width:0.8;\"/>\n   </g>\n   <g id=\"patch_105\">\n    <path d=\"M 31.8 239.758125 \nL 177.365217 239.758125 \n\" style=\"fill:none;stroke:#000000;stroke-linecap:square;stroke-linejoin:miter;stroke-width:0.8;\"/>\n   </g>\n   <g id=\"patch_106\">\n    <path d=\"M 31.8 22.318125 \nL 177.365217 22.318125 \n\" style=\"fill:none;stroke:#000000;stroke-linecap:square;stroke-linejoin:miter;stroke-width:0.8;\"/>\n   </g>\n   <g id=\"text_7\">\n    <!-- age_approx -->\n    <defs>\n     <path d=\"M 34.28125 27.484375 \nQ 23.390625 27.484375 19.1875 25 \nQ 14.984375 22.515625 14.984375 16.5 \nQ 14.984375 11.71875 18.140625 8.90625 \nQ 21.296875 6.109375 26.703125 6.109375 \nQ 34.1875 6.109375 38.703125 11.40625 \nQ 43.21875 16.703125 43.21875 25.484375 \nL 43.21875 27.484375 \nz\nM 52.203125 31.203125 \nL 52.203125 0 \nL 43.21875 0 \nL 43.21875 8.296875 \nQ 40.140625 3.328125 35.546875 0.953125 \nQ 30.953125 -1.421875 24.3125 -1.421875 \nQ 15.921875 -1.421875 10.953125 3.296875 \nQ 6 8.015625 6 15.921875 \nQ 6 25.140625 12.171875 29.828125 \nQ 18.359375 34.515625 30.609375 34.515625 \nL 43.21875 34.515625 \nL 43.21875 35.40625 \nQ 43.21875 41.609375 39.140625 45 \nQ 35.0625 48.390625 27.6875 48.390625 \nQ 23 48.390625 18.546875 47.265625 \nQ 14.109375 46.140625 10.015625 43.890625 \nL 10.015625 52.203125 \nQ 14.9375 54.109375 19.578125 55.046875 \nQ 24.21875 56 28.609375 56 \nQ 40.484375 56 46.34375 49.84375 \nQ 52.203125 43.703125 52.203125 31.203125 \nz\n\" id=\"DejaVuSans-97\"/>\n     <path d=\"M 45.40625 27.984375 \nQ 45.40625 37.75 41.375 43.109375 \nQ 37.359375 48.484375 30.078125 48.484375 \nQ 22.859375 48.484375 18.828125 43.109375 \nQ 14.796875 37.75 14.796875 27.984375 \nQ 14.796875 18.265625 18.828125 12.890625 \nQ 22.859375 7.515625 30.078125 7.515625 \nQ 37.359375 7.515625 41.375 12.890625 \nQ 45.40625 18.265625 45.40625 27.984375 \nz\nM 54.390625 6.78125 \nQ 54.390625 -7.171875 48.1875 -13.984375 \nQ 42 -20.796875 29.203125 -20.796875 \nQ 24.46875 -20.796875 20.265625 -20.09375 \nQ 16.0625 -19.390625 12.109375 -17.921875 \nL 12.109375 -9.1875 \nQ 16.0625 -11.328125 19.921875 -12.34375 \nQ 23.78125 -13.375 27.78125 -13.375 \nQ 36.625 -13.375 41.015625 -8.765625 \nQ 45.40625 -4.15625 45.40625 5.171875 \nL 45.40625 9.625 \nQ 42.625 4.78125 38.28125 2.390625 \nQ 33.9375 0 27.875 0 \nQ 17.828125 0 11.671875 7.65625 \nQ 5.515625 15.328125 5.515625 27.984375 \nQ 5.515625 40.671875 11.671875 48.328125 \nQ 17.828125 56 27.875 56 \nQ 33.9375 56 38.28125 53.609375 \nQ 42.625 51.21875 45.40625 46.390625 \nL 45.40625 54.6875 \nL 54.390625 54.6875 \nz\n\" id=\"DejaVuSans-103\"/>\n     <path d=\"M 56.203125 29.59375 \nL 56.203125 25.203125 \nL 14.890625 25.203125 \nQ 15.484375 15.921875 20.484375 11.0625 \nQ 25.484375 6.203125 34.421875 6.203125 \nQ 39.59375 6.203125 44.453125 7.46875 \nQ 49.3125 8.734375 54.109375 11.28125 \nL 54.109375 2.78125 \nQ 49.265625 0.734375 44.1875 -0.34375 \nQ 39.109375 -1.421875 33.890625 -1.421875 \nQ 20.796875 -1.421875 13.15625 6.1875 \nQ 5.515625 13.8125 5.515625 26.8125 \nQ 5.515625 40.234375 12.765625 48.109375 \nQ 20.015625 56 32.328125 56 \nQ 43.359375 56 49.78125 48.890625 \nQ 56.203125 41.796875 56.203125 29.59375 \nz\nM 47.21875 32.234375 \nQ 47.125 39.59375 43.09375 43.984375 \nQ 39.0625 48.390625 32.421875 48.390625 \nQ 24.90625 48.390625 20.390625 44.140625 \nQ 15.875 39.890625 15.1875 32.171875 \nz\n\" id=\"DejaVuSans-101\"/>\n     <path d=\"M 50.984375 -16.609375 \nL 50.984375 -23.578125 \nL -0.984375 -23.578125 \nL -0.984375 -16.609375 \nz\n\" id=\"DejaVuSans-95\"/>\n     <path d=\"M 18.109375 8.203125 \nL 18.109375 -20.796875 \nL 9.078125 -20.796875 \nL 9.078125 54.6875 \nL 18.109375 54.6875 \nL 18.109375 46.390625 \nQ 20.953125 51.265625 25.265625 53.625 \nQ 29.59375 56 35.59375 56 \nQ 45.5625 56 51.78125 48.09375 \nQ 58.015625 40.1875 58.015625 27.296875 \nQ 58.015625 14.40625 51.78125 6.484375 \nQ 45.5625 -1.421875 35.59375 -1.421875 \nQ 29.59375 -1.421875 25.265625 0.953125 \nQ 20.953125 3.328125 18.109375 8.203125 \nz\nM 48.6875 27.296875 \nQ 48.6875 37.203125 44.609375 42.84375 \nQ 40.53125 48.484375 33.40625 48.484375 \nQ 26.265625 48.484375 22.1875 42.84375 \nQ 18.109375 37.203125 18.109375 27.296875 \nQ 18.109375 17.390625 22.1875 11.75 \nQ 26.265625 6.109375 33.40625 6.109375 \nQ 40.53125 6.109375 44.609375 11.75 \nQ 48.6875 17.390625 48.6875 27.296875 \nz\n\" id=\"DejaVuSans-112\"/>\n     <path d=\"M 41.109375 46.296875 \nQ 39.59375 47.171875 37.8125 47.578125 \nQ 36.03125 48 33.890625 48 \nQ 26.265625 48 22.1875 43.046875 \nQ 18.109375 38.09375 18.109375 28.8125 \nL 18.109375 0 \nL 9.078125 0 \nL 9.078125 54.6875 \nL 18.109375 54.6875 \nL 18.109375 46.1875 \nQ 20.953125 51.171875 25.484375 53.578125 \nQ 30.03125 56 36.53125 56 \nQ 37.453125 56 38.578125 55.875 \nQ 39.703125 55.765625 41.0625 55.515625 \nz\n\" id=\"DejaVuSans-114\"/>\n     <path d=\"M 30.609375 48.390625 \nQ 23.390625 48.390625 19.1875 42.75 \nQ 14.984375 37.109375 14.984375 27.296875 \nQ 14.984375 17.484375 19.15625 11.84375 \nQ 23.34375 6.203125 30.609375 6.203125 \nQ 37.796875 6.203125 41.984375 11.859375 \nQ 46.1875 17.53125 46.1875 27.296875 \nQ 46.1875 37.015625 41.984375 42.703125 \nQ 37.796875 48.390625 30.609375 48.390625 \nz\nM 30.609375 56 \nQ 42.328125 56 49.015625 48.375 \nQ 55.71875 40.765625 55.71875 27.296875 \nQ 55.71875 13.875 49.015625 6.21875 \nQ 42.328125 -1.421875 30.609375 -1.421875 \nQ 18.84375 -1.421875 12.171875 6.21875 \nQ 5.515625 13.875 5.515625 27.296875 \nQ 5.515625 40.765625 12.171875 48.375 \nQ 18.84375 56 30.609375 56 \nz\n\" id=\"DejaVuSans-111\"/>\n     <path d=\"M 54.890625 54.6875 \nL 35.109375 28.078125 \nL 55.90625 0 \nL 45.3125 0 \nL 29.390625 21.484375 \nL 13.484375 0 \nL 2.875 0 \nL 24.125 28.609375 \nL 4.6875 54.6875 \nL 15.28125 54.6875 \nL 29.78125 35.203125 \nL 44.28125 54.6875 \nz\n\" id=\"DejaVuSans-120\"/>\n    </defs>\n    <g transform=\"translate(69.743234 16.318125)scale(0.12 -0.12)\">\n     <use xlink:href=\"#DejaVuSans-97\"/>\n     <use x=\"61.279297\" xlink:href=\"#DejaVuSans-103\"/>\n     <use x=\"124.755859\" xlink:href=\"#DejaVuSans-101\"/>\n     <use x=\"186.279297\" xlink:href=\"#DejaVuSans-95\"/>\n     <use x=\"236.279297\" xlink:href=\"#DejaVuSans-97\"/>\n     <use x=\"297.558594\" xlink:href=\"#DejaVuSans-112\"/>\n     <use x=\"361.035156\" xlink:href=\"#DejaVuSans-112\"/>\n     <use x=\"424.511719\" xlink:href=\"#DejaVuSans-114\"/>\n     <use x=\"463.375\" xlink:href=\"#DejaVuSans-111\"/>\n     <use x=\"521.431641\" xlink:href=\"#DejaVuSans-120\"/>\n    </g>\n   </g>\n  </g>\n  <g id=\"axes_2\">\n   <g id=\"patch_107\">\n    <path d=\"M 221.034783 239.758125 \nL 366.6 239.758125 \nL 366.6 22.318125 \nL 221.034783 22.318125 \nz\n\" style=\"fill:#ffffff;\"/>\n   </g>\n   <g id=\"patch_108\">\n    <path clip-path=\"url(#pce6916b78d)\" d=\"M 227.651383 59711.587375 \nL 228.974704 59711.587375 \nL 228.974704 102.035254 \nL 227.651383 102.035254 \nz\n\" style=\"fill:#1f77b4;opacity:0.6;\"/>\n   </g>\n   <g id=\"patch_109\">\n    <path clip-path=\"url(#pce6916b78d)\" d=\"M 228.974704 59711.587375 \nL 230.298024 59711.587375 \nL 230.298024 42.59021 \nL 228.974704 42.59021 \nz\n\" style=\"fill:#1f77b4;opacity:0.6;\"/>\n   </g>\n   <g id=\"patch_110\">\n    <path clip-path=\"url(#pce6916b78d)\" d=\"M 230.298024 59711.587375 \nL 231.621344 59711.587375 \nL 231.621344 32.201761 \nL 230.298024 32.201761 \nz\n\" style=\"fill:#1f77b4;opacity:0.6;\"/>\n   </g>\n   <g id=\"patch_111\">\n    <path clip-path=\"url(#pce6916b78d)\" d=\"M 231.621344 59711.587375 \nL 232.944664 59711.587375 \nL 232.944664 43.791942 \nL 231.621344 43.791942 \nz\n\" style=\"fill:#1f77b4;opacity:0.6;\"/>\n   </g>\n   <g id=\"patch_112\">\n    <path clip-path=\"url(#pce6916b78d)\" d=\"M 232.944664 59711.587375 \nL 234.267984 59711.587375 \nL 234.267984 52.430126 \nL 232.944664 52.430126 \nz\n\" style=\"fill:#1f77b4;opacity:0.6;\"/>\n   </g>\n   <g id=\"patch_113\">\n    <path clip-path=\"url(#pce6916b78d)\" d=\"M 234.267984 59711.587375 \nL 235.591304 59711.587375 \nL 235.591304 60.276758 \nL 234.267984 60.276758 \nz\n\" style=\"fill:#1f77b4;opacity:0.6;\"/>\n   </g>\n   <g id=\"patch_114\">\n    <path clip-path=\"url(#pce6916b78d)\" d=\"M 235.591304 59711.587375 \nL 236.914625 59711.587375 \nL 236.914625 64.453648 \nL 235.591304 64.453648 \nz\n\" style=\"fill:#1f77b4;opacity:0.6;\"/>\n   </g>\n   <g id=\"patch_115\">\n    <path clip-path=\"url(#pce6916b78d)\" d=\"M 236.914625 59711.587375 \nL 238.237945 59711.587375 \nL 238.237945 70.228716 \nL 236.914625 70.228716 \nz\n\" style=\"fill:#1f77b4;opacity:0.6;\"/>\n   </g>\n   <g id=\"patch_116\">\n    <path clip-path=\"url(#pce6916b78d)\" d=\"M 238.237945 59711.587375 \nL 239.561265 59711.587375 \nL 239.561265 77.043727 \nL 238.237945 77.043727 \nz\n\" style=\"fill:#1f77b4;opacity:0.6;\"/>\n   </g>\n   <g id=\"patch_117\">\n    <path clip-path=\"url(#pce6916b78d)\" d=\"M 239.561265 59711.587375 \nL 240.884585 59711.587375 \nL 240.884585 80.542971 \nL 239.561265 80.542971 \nz\n\" style=\"fill:#1f77b4;opacity:0.6;\"/>\n   </g>\n   <g id=\"patch_118\">\n    <path clip-path=\"url(#pce6916b78d)\" d=\"M 240.884585 59711.587375 \nL 242.207905 59711.587375 \nL 242.207905 86.327285 \nL 240.884585 86.327285 \nz\n\" style=\"fill:#1f77b4;opacity:0.6;\"/>\n   </g>\n   <g id=\"patch_119\">\n    <path clip-path=\"url(#pce6916b78d)\" d=\"M 242.207905 59711.587375 \nL 243.531225 59711.587375 \nL 243.531225 94.059821 \nL 242.207905 94.059821 \nz\n\" style=\"fill:#1f77b4;opacity:0.6;\"/>\n   </g>\n   <g id=\"patch_120\">\n    <path clip-path=\"url(#pce6916b78d)\" d=\"M 243.531225 59711.587375 \nL 244.854545 59711.587375 \nL 244.854545 94.741458 \nL 243.531225 94.741458 \nz\n\" style=\"fill:#1f77b4;opacity:0.6;\"/>\n   </g>\n   <g id=\"patch_121\">\n    <path clip-path=\"url(#pce6916b78d)\" d=\"M 244.854545 59711.587375 \nL 246.177866 59711.587375 \nL 246.177866 100.783604 \nL 244.854545 100.783604 \nz\n\" style=\"fill:#1f77b4;opacity:0.6;\"/>\n   </g>\n   <g id=\"patch_122\">\n    <path clip-path=\"url(#pce6916b78d)\" d=\"M 246.177866 59711.587375 \nL 247.501186 59711.587375 \nL 247.501186 102.219117 \nL 246.177866 102.219117 \nz\n\" style=\"fill:#1f77b4;opacity:0.6;\"/>\n   </g>\n   <g id=\"patch_123\">\n    <path clip-path=\"url(#pce6916b78d)\" d=\"M 247.501186 59711.587375 \nL 248.824506 59711.587375 \nL 248.824506 106.4174 \nL 247.501186 106.4174 \nz\n\" style=\"fill:#1f77b4;opacity:0.6;\"/>\n   </g>\n   <g id=\"patch_124\">\n    <path clip-path=\"url(#pce6916b78d)\" d=\"M 248.824506 59711.587375 \nL 250.147826 59711.587375 \nL 250.147826 108.922961 \nL 248.824506 108.922961 \nz\n\" style=\"fill:#1f77b4;opacity:0.6;\"/>\n   </g>\n   <g id=\"patch_125\">\n    <path clip-path=\"url(#pce6916b78d)\" d=\"M 250.147826 59711.587375 \nL 251.471146 59711.587375 \nL 251.471146 111.9656 \nL 250.147826 111.9656 \nz\n\" style=\"fill:#1f77b4;opacity:0.6;\"/>\n   </g>\n   <g id=\"patch_126\">\n    <path clip-path=\"url(#pce6916b78d)\" d=\"M 251.471146 59711.587375 \nL 252.794466 59711.587375 \nL 252.794466 119.758471 \nL 251.471146 119.758471 \nz\n\" style=\"fill:#1f77b4;opacity:0.6;\"/>\n   </g>\n   <g id=\"patch_127\">\n    <path clip-path=\"url(#pce6916b78d)\" d=\"M 252.794466 59711.587375 \nL 254.117787 59711.587375 \nL 254.117787 115.109346 \nL 252.794466 115.109346 \nz\n\" style=\"fill:#1f77b4;opacity:0.6;\"/>\n   </g>\n   <g id=\"patch_128\">\n    <path clip-path=\"url(#pce6916b78d)\" d=\"M 254.117787 59711.587375 \nL 255.441107 59711.587375 \nL 255.441107 119.040853 \nL 254.117787 119.040853 \nz\n\" style=\"fill:#1f77b4;opacity:0.6;\"/>\n   </g>\n   <g id=\"patch_129\">\n    <path clip-path=\"url(#pce6916b78d)\" d=\"M 255.441107 59711.587375 \nL 256.764427 59711.587375 \nL 256.764427 117.000379 \nL 255.441107 117.000379 \nz\n\" style=\"fill:#1f77b4;opacity:0.6;\"/>\n   </g>\n   <g id=\"patch_130\">\n    <path clip-path=\"url(#pce6916b78d)\" d=\"M 256.764427 59711.587375 \nL 258.087747 59711.587375 \nL 258.087747 130.970805 \nL 256.764427 130.970805 \nz\n\" style=\"fill:#1f77b4;opacity:0.6;\"/>\n   </g>\n   <g id=\"patch_131\">\n    <path clip-path=\"url(#pce6916b78d)\" d=\"M 258.087747 59711.587375 \nL 259.411067 59711.587375 \nL 259.411067 128.816843 \nL 258.087747 128.816843 \nz\n\" style=\"fill:#1f77b4;opacity:0.6;\"/>\n   </g>\n   <g id=\"patch_132\">\n    <path clip-path=\"url(#pce6916b78d)\" d=\"M 259.411067 59711.587375 \nL 260.734387 59711.587375 \nL 260.734387 130.415244 \nL 259.411067 130.415244 \nz\n\" style=\"fill:#1f77b4;opacity:0.6;\"/>\n   </g>\n   <g id=\"patch_133\">\n    <path clip-path=\"url(#pce6916b78d)\" d=\"M 260.734387 59711.587375 \nL 262.057708 59711.587375 \nL 262.057708 132.119108 \nL 260.734387 132.119108 \nz\n\" style=\"fill:#1f77b4;opacity:0.6;\"/>\n   </g>\n   <g id=\"patch_134\">\n    <path clip-path=\"url(#pce6916b78d)\" d=\"M 262.057708 59711.587375 \nL 263.381028 59711.587375 \nL 263.381028 134.581216 \nL 262.057708 134.581216 \nz\n\" style=\"fill:#1f77b4;opacity:0.6;\"/>\n   </g>\n   <g id=\"patch_135\">\n    <path clip-path=\"url(#pce6916b78d)\" d=\"M 263.381028 59711.587375 \nL 264.704348 59711.587375 \nL 264.704348 133.943342 \nL 263.381028 133.943342 \nz\n\" style=\"fill:#1f77b4;opacity:0.6;\"/>\n   </g>\n   <g id=\"patch_136\">\n    <path clip-path=\"url(#pce6916b78d)\" d=\"M 264.704348 59711.587375 \nL 266.027668 59711.587375 \nL 266.027668 133.943342 \nL 264.704348 133.943342 \nz\n\" style=\"fill:#1f77b4;opacity:0.6;\"/>\n   </g>\n   <g id=\"patch_137\">\n    <path clip-path=\"url(#pce6916b78d)\" d=\"M 266.027668 59711.587375 \nL 267.350988 59711.587375 \nL 267.350988 142.888551 \nL 266.027668 142.888551 \nz\n\" style=\"fill:#1f77b4;opacity:0.6;\"/>\n   </g>\n   <g id=\"patch_138\">\n    <path clip-path=\"url(#pce6916b78d)\" d=\"M 267.350988 59711.587375 \nL 268.674308 59711.587375 \nL 268.674308 142.012786 \nL 267.350988 142.012786 \nz\n\" style=\"fill:#1f77b4;opacity:0.6;\"/>\n   </g>\n   <g id=\"patch_139\">\n    <path clip-path=\"url(#pce6916b78d)\" d=\"M 268.674308 59711.587375 \nL 269.997628 59711.587375 \nL 269.997628 148.876584 \nL 268.674308 148.876584 \nz\n\" style=\"fill:#1f77b4;opacity:0.6;\"/>\n   </g>\n   <g id=\"patch_140\">\n    <path clip-path=\"url(#pce6916b78d)\" d=\"M 269.997628 59711.587375 \nL 271.320949 59711.587375 \nL 271.320949 137.30295 \nL 269.997628 137.30295 \nz\n\" style=\"fill:#1f77b4;opacity:0.6;\"/>\n   </g>\n   <g id=\"patch_141\">\n    <path clip-path=\"url(#pce6916b78d)\" d=\"M 271.320949 59711.587375 \nL 272.644269 59711.587375 \nL 272.644269 158.25137 \nL 271.320949 158.25137 \nz\n\" style=\"fill:#1f77b4;opacity:0.6;\"/>\n   </g>\n   <g id=\"patch_142\">\n    <path clip-path=\"url(#pce6916b78d)\" d=\"M 272.644269 59711.587375 \nL 273.967589 59711.587375 \nL 273.967589 158.25137 \nL 272.644269 158.25137 \nz\n\" style=\"fill:#1f77b4;opacity:0.6;\"/>\n   </g>\n   <g id=\"patch_143\">\n    <path clip-path=\"url(#pce6916b78d)\" d=\"M 273.967589 59711.587375 \nL 275.290909 59711.587375 \nL 275.290909 148.876584 \nL 273.967589 148.876584 \nz\n\" style=\"fill:#1f77b4;opacity:0.6;\"/>\n   </g>\n   <g id=\"patch_144\">\n    <path clip-path=\"url(#pce6916b78d)\" d=\"M 275.290909 59711.587375 \nL 276.614229 59711.587375 \nL 276.614229 158.25137 \nL 275.290909 158.25137 \nz\n\" style=\"fill:#1f77b4;opacity:0.6;\"/>\n   </g>\n   <g id=\"patch_145\">\n    <path clip-path=\"url(#pce6916b78d)\" d=\"M 276.614229 59711.587375 \nL 277.937549 59711.587375 \nL 277.937549 158.25137 \nL 276.614229 158.25137 \nz\n\" style=\"fill:#1f77b4;opacity:0.6;\"/>\n   </g>\n   <g id=\"patch_146\">\n    <path clip-path=\"url(#pce6916b78d)\" d=\"M 277.937549 59711.587375 \nL 279.26087 59711.587375 \nL 279.26087 142.012786 \nL 277.937549 142.012786 \nz\n\" style=\"fill:#1f77b4;opacity:0.6;\"/>\n   </g>\n   <g id=\"patch_147\">\n    <path clip-path=\"url(#pce6916b78d)\" d=\"M 279.26087 59711.587375 \nL 280.58419 59711.587375 \nL 280.58419 167.930668 \nL 279.26087 167.930668 \nz\n\" style=\"fill:#1f77b4;opacity:0.6;\"/>\n   </g>\n   <g id=\"patch_148\">\n    <path clip-path=\"url(#pce6916b78d)\" d=\"M 280.58419 59711.587375 \nL 281.90751 59711.587375 \nL 281.90751 179.60661 \nL 280.58419 179.60661 \nz\n\" style=\"fill:#1f77b4;opacity:0.6;\"/>\n   </g>\n   <g id=\"patch_149\">\n    <path clip-path=\"url(#pce6916b78d)\" d=\"M 281.90751 59711.587375 \nL 283.23083 59711.587375 \nL 283.23083 158.25137 \nL 281.90751 158.25137 \nz\n\" style=\"fill:#1f77b4;opacity:0.6;\"/>\n   </g>\n   <g id=\"patch_150\">\n    <path clip-path=\"url(#pce6916b78d)\" d=\"M 283.23083 59711.587375 \nL 284.55415 59711.587375 \nL 284.55415 153.812034 \nL 283.23083 153.812034 \nz\n\" style=\"fill:#1f77b4;opacity:0.6;\"/>\n   </g>\n   <g id=\"patch_151\">\n    <path clip-path=\"url(#pce6916b78d)\" d=\"M 284.55415 59711.587375 \nL 285.87747 59711.587375 \nL 285.87747 148.876584 \nL 284.55415 148.876584 \nz\n\" style=\"fill:#1f77b4;opacity:0.6;\"/>\n   </g>\n   <g id=\"patch_152\">\n    <path clip-path=\"url(#pce6916b78d)\" d=\"M 285.87747 59711.587375 \nL 287.200791 59711.587375 \nL 287.200791 167.930668 \nL 285.87747 167.930668 \nz\n\" style=\"fill:#1f77b4;opacity:0.6;\"/>\n   </g>\n   <g id=\"patch_153\">\n    <path clip-path=\"url(#pce6916b78d)\" d=\"M 287.200791 59711.587375 \nL 288.524111 59711.587375 \nL 288.524111 163.61523 \nL 287.200791 163.61523 \nz\n\" style=\"fill:#1f77b4;opacity:0.6;\"/>\n   </g>\n   <g id=\"patch_154\">\n    <path clip-path=\"url(#pce6916b78d)\" d=\"M 288.524111 59711.587375 \nL 289.847431 59711.587375 \nL 289.847431 170.392776 \nL 288.524111 170.392776 \nz\n\" style=\"fill:#1f77b4;opacity:0.6;\"/>\n   </g>\n   <g id=\"patch_155\">\n    <path clip-path=\"url(#pce6916b78d)\" d=\"M 289.847431 59711.587375 \nL 291.170751 59711.587375 \nL 291.170751 167.930668 \nL 289.847431 167.930668 \nz\n\" style=\"fill:#1f77b4;opacity:0.6;\"/>\n   </g>\n   <g id=\"patch_156\">\n    <path clip-path=\"url(#pce6916b78d)\" d=\"M 291.170751 59711.587375 \nL 292.494071 59711.587375 \nL 292.494071 173.11451 \nL 291.170751 173.11451 \nz\n\" style=\"fill:#1f77b4;opacity:0.6;\"/>\n   </g>\n   <g id=\"patch_157\">\n    <path clip-path=\"url(#pce6916b78d)\" d=\"M 292.494071 59711.587375 \nL 293.817391 59711.587375 \nL 293.817391 161.70083 \nL 292.494071 161.70083 \nz\n\" style=\"fill:#1f77b4;opacity:0.6;\"/>\n   </g>\n   <g id=\"patch_158\">\n    <path clip-path=\"url(#pce6916b78d)\" d=\"M 293.817391 59711.587375 \nL 295.140711 59711.587375 \nL 295.140711 161.70083 \nL 293.817391 161.70083 \nz\n\" style=\"fill:#1f77b4;opacity:0.6;\"/>\n   </g>\n   <g id=\"patch_159\">\n    <path clip-path=\"url(#pce6916b78d)\" d=\"M 295.140711 59711.587375 \nL 296.464032 59711.587375 \nL 296.464032 176.157149 \nL 295.140711 176.157149 \nz\n\" style=\"fill:#1f77b4;opacity:0.6;\"/>\n   </g>\n   <g id=\"patch_160\">\n    <path clip-path=\"url(#pce6916b78d)\" d=\"M 296.464032 59711.587375 \nL 297.787352 59711.587375 \nL 297.787352 194.062929 \nL 296.464032 194.062929 \nz\n\" style=\"fill:#1f77b4;opacity:0.6;\"/>\n   </g>\n   <g id=\"patch_161\">\n    <path clip-path=\"url(#pce6916b78d)\" d=\"M 297.787352 59711.587375 \nL 299.110672 59711.587375 \nL 299.110672 176.157149 \nL 297.787352 176.157149 \nz\n\" style=\"fill:#1f77b4;opacity:0.6;\"/>\n   </g>\n   <g id=\"patch_162\">\n    <path clip-path=\"url(#pce6916b78d)\" d=\"M 299.110672 59711.587375 \nL 300.433992 59711.587375 \nL 300.433992 176.157149 \nL 299.110672 176.157149 \nz\n\" style=\"fill:#1f77b4;opacity:0.6;\"/>\n   </g>\n   <g id=\"patch_163\">\n    <path clip-path=\"url(#pce6916b78d)\" d=\"M 300.433992 59711.587375 \nL 301.757312 59711.587375 \nL 301.757312 183.588719 \nL 300.433992 183.588719 \nz\n\" style=\"fill:#1f77b4;opacity:0.6;\"/>\n   </g>\n   <g id=\"patch_164\">\n    <path clip-path=\"url(#pce6916b78d)\" d=\"M 301.757312 59711.587375 \nL 303.080632 59711.587375 \nL 303.080632 201.494499 \nL 301.757312 201.494499 \nz\n\" style=\"fill:#1f77b4;opacity:0.6;\"/>\n   </g>\n   <g id=\"patch_165\">\n    <path clip-path=\"url(#pce6916b78d)\" d=\"M 303.080632 59711.587375 \nL 304.403953 59711.587375 \nL 304.403953 173.11451 \nL 303.080632 173.11451 \nz\n\" style=\"fill:#1f77b4;opacity:0.6;\"/>\n   </g>\n   <g id=\"patch_166\">\n    <path clip-path=\"url(#pce6916b78d)\" d=\"M 304.403953 59711.587375 \nL 305.727273 59711.587375 \nL 305.727273 188.298556 \nL 304.403953 188.298556 \nz\n\" style=\"fill:#1f77b4;opacity:0.6;\"/>\n   </g>\n   <g id=\"patch_167\">\n    <path clip-path=\"url(#pce6916b78d)\" d=\"M 305.727273 59711.587375 \nL 307.050593 59711.587375 \nL 307.050593 188.298556 \nL 305.727273 188.298556 \nz\n\" style=\"fill:#1f77b4;opacity:0.6;\"/>\n   </g>\n   <g id=\"patch_168\">\n    <path clip-path=\"url(#pce6916b78d)\" d=\"M 307.050593 59711.587375 \nL 308.373913 59711.587375 \nL 308.373913 173.11451 \nL 307.050593 173.11451 \nz\n\" style=\"fill:#1f77b4;opacity:0.6;\"/>\n   </g>\n   <g id=\"patch_169\">\n    <path clip-path=\"url(#pce6916b78d)\" d=\"M 308.373913 59711.587375 \nL 309.697233 59711.587375 \nL 309.697233 201.494499 \nL 308.373913 201.494499 \nz\n\" style=\"fill:#1f77b4;opacity:0.6;\"/>\n   </g>\n   <g id=\"patch_170\">\n    <path clip-path=\"url(#pce6916b78d)\" d=\"M 309.697233 59711.587375 \nL 311.020553 59711.587375 \nL 311.020553 173.11451 \nL 309.697233 173.11451 \nz\n\" style=\"fill:#1f77b4;opacity:0.6;\"/>\n   </g>\n   <g id=\"patch_171\">\n    <path clip-path=\"url(#pce6916b78d)\" d=\"M 311.020553 59711.587375 \nL 312.343874 59711.587375 \nL 312.343874 176.157149 \nL 311.020553 176.157149 \nz\n\" style=\"fill:#1f77b4;opacity:0.6;\"/>\n   </g>\n   <g id=\"patch_172\">\n    <path clip-path=\"url(#pce6916b78d)\" d=\"M 312.343874 59711.587375 \nL 313.667194 59711.587375 \nL 313.667194 179.60661 \nL 312.343874 179.60661 \nz\n\" style=\"fill:#1f77b4;opacity:0.6;\"/>\n   </g>\n   <g id=\"patch_173\">\n    <path clip-path=\"url(#pce6916b78d)\" d=\"M 313.667194 59711.587375 \nL 314.990514 59711.587375 \nL 314.990514 183.588719 \nL 313.667194 183.588719 \nz\n\" style=\"fill:#1f77b4;opacity:0.6;\"/>\n   </g>\n   <g id=\"patch_174\">\n    <path clip-path=\"url(#pce6916b78d)\" d=\"M 314.990514 59711.587375 \nL 316.313834 59711.587375 \nL 316.313834 179.60661 \nL 314.990514 179.60661 \nz\n\" style=\"fill:#1f77b4;opacity:0.6;\"/>\n   </g>\n   <g id=\"patch_175\">\n    <path clip-path=\"url(#pce6916b78d)\" d=\"M 316.313834 59711.587375 \nL 317.637154 59711.587375 \nL 317.637154 188.298556 \nL 316.313834 188.298556 \nz\n\" style=\"fill:#1f77b4;opacity:0.6;\"/>\n   </g>\n   <g id=\"patch_176\">\n    <path clip-path=\"url(#pce6916b78d)\" d=\"M 317.637154 59711.587375 \nL 318.960474 59711.587375 \nL 318.960474 179.60661 \nL 317.637154 179.60661 \nz\n\" style=\"fill:#1f77b4;opacity:0.6;\"/>\n   </g>\n   <g id=\"patch_177\">\n    <path clip-path=\"url(#pce6916b78d)\" d=\"M 318.960474 59711.587375 \nL 320.283794 59711.587375 \nL 320.283794 194.062929 \nL 318.960474 194.062929 \nz\n\" style=\"fill:#1f77b4;opacity:0.6;\"/>\n   </g>\n   <g id=\"patch_178\">\n    <path clip-path=\"url(#pce6916b78d)\" d=\"M 320.283794 59711.587375 \nL 321.607115 59711.587375 \nL 321.607115 179.60661 \nL 320.283794 179.60661 \nz\n\" style=\"fill:#1f77b4;opacity:0.6;\"/>\n   </g>\n   <g id=\"patch_179\">\n    <path clip-path=\"url(#pce6916b78d)\" d=\"M 321.607115 59711.587375 \nL 322.930435 59711.587375 \nL 322.930435 188.298556 \nL 321.607115 188.298556 \nz\n\" style=\"fill:#1f77b4;opacity:0.6;\"/>\n   </g>\n   <g id=\"patch_180\">\n    <path clip-path=\"url(#pce6916b78d)\" d=\"M 322.930435 59711.587375 \nL 324.253755 59711.587375 \nL 324.253755 179.60661 \nL 322.930435 179.60661 \nz\n\" style=\"fill:#1f77b4;opacity:0.6;\"/>\n   </g>\n   <g id=\"patch_181\">\n    <path clip-path=\"url(#pce6916b78d)\" d=\"M 324.253755 59711.587375 \nL 325.577075 59711.587375 \nL 325.577075 179.60661 \nL 324.253755 179.60661 \nz\n\" style=\"fill:#1f77b4;opacity:0.6;\"/>\n   </g>\n   <g id=\"patch_182\">\n    <path clip-path=\"url(#pce6916b78d)\" d=\"M 325.577075 59711.587375 \nL 326.900395 59711.587375 \nL 326.900395 229.874489 \nL 325.577075 229.874489 \nz\n\" style=\"fill:#1f77b4;opacity:0.6;\"/>\n   </g>\n   <g id=\"patch_183\">\n    <path clip-path=\"url(#pce6916b78d)\" d=\"M 326.900395 59711.587375 \nL 328.223715 59711.587375 \nL 328.223715 188.298556 \nL 326.900395 188.298556 \nz\n\" style=\"fill:#1f77b4;opacity:0.6;\"/>\n   </g>\n   <g id=\"patch_184\">\n    <path clip-path=\"url(#pce6916b78d)\" d=\"M 328.223715 59711.587375 \nL 329.547036 59711.587375 \nL 329.547036 183.588719 \nL 328.223715 183.588719 \nz\n\" style=\"fill:#1f77b4;opacity:0.6;\"/>\n   </g>\n   <g id=\"patch_185\">\n    <path clip-path=\"url(#pce6916b78d)\" d=\"M 329.547036 59711.587375 \nL 330.870356 59711.587375 \nL 330.870356 179.60661 \nL 329.547036 179.60661 \nz\n\" style=\"fill:#1f77b4;opacity:0.6;\"/>\n   </g>\n   <g id=\"patch_186\">\n    <path clip-path=\"url(#pce6916b78d)\" d=\"M 330.870356 59711.587375 \nL 332.193676 59711.587375 \nL 332.193676 188.298556 \nL 330.870356 188.298556 \nz\n\" style=\"fill:#1f77b4;opacity:0.6;\"/>\n   </g>\n   <g id=\"patch_187\">\n    <path clip-path=\"url(#pce6916b78d)\" d=\"M 332.193676 59711.587375 \nL 333.516996 59711.587375 \nL 333.516996 179.60661 \nL 332.193676 179.60661 \nz\n\" style=\"fill:#1f77b4;opacity:0.6;\"/>\n   </g>\n   <g id=\"patch_188\">\n    <path clip-path=\"url(#pce6916b78d)\" d=\"M 333.516996 59711.587375 \nL 334.840316 59711.587375 \nL 334.840316 179.60661 \nL 333.516996 179.60661 \nz\n\" style=\"fill:#1f77b4;opacity:0.6;\"/>\n   </g>\n   <g id=\"patch_189\">\n    <path clip-path=\"url(#pce6916b78d)\" d=\"M 334.840316 59711.587375 \nL 336.163636 59711.587375 \nL 336.163636 173.11451 \nL 334.840316 173.11451 \nz\n\" style=\"fill:#1f77b4;opacity:0.6;\"/>\n   </g>\n   <g id=\"patch_190\">\n    <path clip-path=\"url(#pce6916b78d)\" d=\"M 336.163636 59711.587375 \nL 337.486957 59711.587375 \nL 337.486957 201.494499 \nL 336.163636 201.494499 \nz\n\" style=\"fill:#1f77b4;opacity:0.6;\"/>\n   </g>\n   <g id=\"patch_191\">\n    <path clip-path=\"url(#pce6916b78d)\" d=\"M 337.486957 59711.587375 \nL 338.810277 59711.587375 \nL 338.810277 229.874489 \nL 337.486957 229.874489 \nz\n\" style=\"fill:#1f77b4;opacity:0.6;\"/>\n   </g>\n   <g id=\"patch_192\">\n    <path clip-path=\"url(#pce6916b78d)\" d=\"M 338.810277 59711.587375 \nL 340.133597 59711.587375 \nL 340.133597 179.60661 \nL 338.810277 179.60661 \nz\n\" style=\"fill:#1f77b4;opacity:0.6;\"/>\n   </g>\n   <g id=\"patch_193\">\n    <path clip-path=\"url(#pce6916b78d)\" d=\"M 340.133597 59711.587375 \nL 341.456917 59711.587375 \nL 341.456917 188.298556 \nL 340.133597 188.298556 \nz\n\" style=\"fill:#1f77b4;opacity:0.6;\"/>\n   </g>\n   <g id=\"patch_194\">\n    <path clip-path=\"url(#pce6916b78d)\" d=\"M 341.456917 59711.587375 \nL 342.780237 59711.587375 \nL 342.780237 188.298556 \nL 341.456917 188.298556 \nz\n\" style=\"fill:#1f77b4;opacity:0.6;\"/>\n   </g>\n   <g id=\"patch_195\">\n    <path clip-path=\"url(#pce6916b78d)\" d=\"M 342.780237 59711.587375 \nL 344.103557 59711.587375 \nL 344.103557 194.062929 \nL 342.780237 194.062929 \nz\n\" style=\"fill:#1f77b4;opacity:0.6;\"/>\n   </g>\n   <g id=\"patch_196\">\n    <path clip-path=\"url(#pce6916b78d)\" d=\"M 344.103557 59711.587375 \nL 345.426877 59711.587375 \nL 345.426877 188.298556 \nL 344.103557 188.298556 \nz\n\" style=\"fill:#1f77b4;opacity:0.6;\"/>\n   </g>\n   <g id=\"patch_197\">\n    <path clip-path=\"url(#pce6916b78d)\" d=\"M 345.426877 59711.587375 \nL 346.750198 59711.587375 \nL 346.750198 176.157149 \nL 345.426877 176.157149 \nz\n\" style=\"fill:#1f77b4;opacity:0.6;\"/>\n   </g>\n   <g id=\"patch_198\">\n    <path clip-path=\"url(#pce6916b78d)\" d=\"M 346.750198 59711.587375 \nL 348.073518 59711.587375 \nL 348.073518 59711.587375 \nL 346.750198 59711.587375 \nz\n\" style=\"fill:#1f77b4;opacity:0.6;\"/>\n   </g>\n   <g id=\"patch_199\">\n    <path clip-path=\"url(#pce6916b78d)\" d=\"M 348.073518 59711.587375 \nL 349.396838 59711.587375 \nL 349.396838 194.062929 \nL 348.073518 194.062929 \nz\n\" style=\"fill:#1f77b4;opacity:0.6;\"/>\n   </g>\n   <g id=\"patch_200\">\n    <path clip-path=\"url(#pce6916b78d)\" d=\"M 349.396838 59711.587375 \nL 350.720158 59711.587375 \nL 350.720158 211.968709 \nL 349.396838 211.968709 \nz\n\" style=\"fill:#1f77b4;opacity:0.6;\"/>\n   </g>\n   <g id=\"patch_201\">\n    <path clip-path=\"url(#pce6916b78d)\" d=\"M 350.720158 59711.587375 \nL 352.043478 59711.587375 \nL 352.043478 183.588719 \nL 350.720158 183.588719 \nz\n\" style=\"fill:#1f77b4;opacity:0.6;\"/>\n   </g>\n   <g id=\"patch_202\">\n    <path clip-path=\"url(#pce6916b78d)\" d=\"M 352.043478 59711.587375 \nL 353.366798 59711.587375 \nL 353.366798 183.588719 \nL 352.043478 183.588719 \nz\n\" style=\"fill:#1f77b4;opacity:0.6;\"/>\n   </g>\n   <g id=\"patch_203\">\n    <path clip-path=\"url(#pce6916b78d)\" d=\"M 353.366798 59711.587375 \nL 354.690119 59711.587375 \nL 354.690119 194.062929 \nL 353.366798 194.062929 \nz\n\" style=\"fill:#1f77b4;opacity:0.6;\"/>\n   </g>\n   <g id=\"patch_204\">\n    <path clip-path=\"url(#pce6916b78d)\" d=\"M 354.690119 59711.587375 \nL 356.013439 59711.587375 \nL 356.013439 194.062929 \nL 354.690119 194.062929 \nz\n\" style=\"fill:#1f77b4;opacity:0.6;\"/>\n   </g>\n   <g id=\"patch_205\">\n    <path clip-path=\"url(#pce6916b78d)\" d=\"M 356.013439 59711.587375 \nL 357.336759 59711.587375 \nL 357.336759 188.298556 \nL 356.013439 188.298556 \nz\n\" style=\"fill:#1f77b4;opacity:0.6;\"/>\n   </g>\n   <g id=\"patch_206\">\n    <path clip-path=\"url(#pce6916b78d)\" d=\"M 357.336759 59711.587375 \nL 358.660079 59711.587375 \nL 358.660079 188.298556 \nL 357.336759 188.298556 \nz\n\" style=\"fill:#1f77b4;opacity:0.6;\"/>\n   </g>\n   <g id=\"patch_207\">\n    <path clip-path=\"url(#pce6916b78d)\" d=\"M 358.660079 59711.587375 \nL 359.983399 59711.587375 \nL 359.983399 201.494499 \nL 358.660079 201.494499 \nz\n\" style=\"fill:#1f77b4;opacity:0.6;\"/>\n   </g>\n   <g id=\"matplotlib.axis_3\">\n    <g id=\"xtick_4\">\n     <g id=\"line2d_34\">\n      <path clip-path=\"url(#pce6916b78d)\" d=\"M 227.651383 239.758125 \nL 227.651383 22.318125 \n\" style=\"fill:none;stroke:#b0b0b0;stroke-linecap:square;stroke-width:0.8;\"/>\n     </g>\n     <g id=\"line2d_35\">\n      <g>\n       <use style=\"stroke:#000000;stroke-width:0.8;\" x=\"227.651383\" xlink:href=\"#me596f77ea3\" y=\"239.758125\"/>\n      </g>\n     </g>\n     <g id=\"text_8\">\n      <!-- 0.0 -->\n      <defs>\n       <path d=\"M 10.6875 12.40625 \nL 21 12.40625 \nL 21 0 \nL 10.6875 0 \nz\n\" id=\"DejaVuSans-46\"/>\n      </defs>\n      <g transform=\"translate(219.699821 254.356563)scale(0.1 -0.1)\">\n       <use xlink:href=\"#DejaVuSans-48\"/>\n       <use x=\"63.623047\" xlink:href=\"#DejaVuSans-46\"/>\n       <use x=\"95.410156\" xlink:href=\"#DejaVuSans-48\"/>\n      </g>\n     </g>\n    </g>\n    <g id=\"xtick_5\">\n     <g id=\"line2d_36\">\n      <path clip-path=\"url(#pce6916b78d)\" d=\"M 293.817391 239.758125 \nL 293.817391 22.318125 \n\" style=\"fill:none;stroke:#b0b0b0;stroke-linecap:square;stroke-width:0.8;\"/>\n     </g>\n     <g id=\"line2d_37\">\n      <g>\n       <use style=\"stroke:#000000;stroke-width:0.8;\" x=\"293.817391\" xlink:href=\"#me596f77ea3\" y=\"239.758125\"/>\n      </g>\n     </g>\n     <g id=\"text_9\">\n      <!-- 0.5 -->\n      <g transform=\"translate(285.865829 254.356563)scale(0.1 -0.1)\">\n       <use xlink:href=\"#DejaVuSans-48\"/>\n       <use x=\"63.623047\" xlink:href=\"#DejaVuSans-46\"/>\n       <use x=\"95.410156\" xlink:href=\"#DejaVuSans-53\"/>\n      </g>\n     </g>\n    </g>\n    <g id=\"xtick_6\">\n     <g id=\"line2d_38\">\n      <path clip-path=\"url(#pce6916b78d)\" d=\"M 359.983399 239.758125 \nL 359.983399 22.318125 \n\" style=\"fill:none;stroke:#b0b0b0;stroke-linecap:square;stroke-width:0.8;\"/>\n     </g>\n     <g id=\"line2d_39\">\n      <g>\n       <use style=\"stroke:#000000;stroke-width:0.8;\" x=\"359.983399\" xlink:href=\"#me596f77ea3\" y=\"239.758125\"/>\n      </g>\n     </g>\n     <g id=\"text_10\">\n      <!-- 1.0 -->\n      <g transform=\"translate(352.031837 254.356563)scale(0.1 -0.1)\">\n       <use xlink:href=\"#DejaVuSans-49\"/>\n       <use x=\"63.623047\" xlink:href=\"#DejaVuSans-46\"/>\n       <use x=\"95.410156\" xlink:href=\"#DejaVuSans-48\"/>\n      </g>\n     </g>\n    </g>\n   </g>\n   <g id=\"matplotlib.axis_4\">\n    <g id=\"ytick_25\">\n     <g id=\"line2d_40\">\n      <path clip-path=\"url(#pce6916b78d)\" d=\"M 221.034783 229.874489 \nL 366.6 229.874489 \n\" style=\"fill:none;stroke:#b0b0b0;stroke-linecap:square;stroke-width:0.8;\"/>\n     </g>\n     <g id=\"line2d_41\">\n      <g>\n       <use style=\"stroke:#000000;stroke-width:0.8;\" x=\"221.034783\" xlink:href=\"#m0cd4a06844\" y=\"229.874489\"/>\n      </g>\n     </g>\n     <g id=\"text_11\">\n      <!-- $\\mathdefault{10^{0}}$ -->\n      <g transform=\"translate(196.434783 233.673707)scale(0.1 -0.1)\">\n       <use transform=\"translate(0 0.765625)\" xlink:href=\"#DejaVuSans-49\"/>\n       <use transform=\"translate(63.623047 0.765625)\" xlink:href=\"#DejaVuSans-48\"/>\n       <use transform=\"translate(128.203125 39.046875)scale(0.7)\" xlink:href=\"#DejaVuSans-48\"/>\n      </g>\n     </g>\n    </g>\n    <g id=\"ytick_26\">\n     <g id=\"line2d_42\">\n      <path clip-path=\"url(#pce6916b78d)\" d=\"M 221.034783 170.392776 \nL 366.6 170.392776 \n\" style=\"fill:none;stroke:#b0b0b0;stroke-linecap:square;stroke-width:0.8;\"/>\n     </g>\n     <g id=\"line2d_43\">\n      <g>\n       <use style=\"stroke:#000000;stroke-width:0.8;\" x=\"221.034783\" xlink:href=\"#m0cd4a06844\" y=\"170.392776\"/>\n      </g>\n     </g>\n     <g id=\"text_12\">\n      <!-- $\\mathdefault{10^{1}}$ -->\n      <g transform=\"translate(196.434783 174.191994)scale(0.1 -0.1)\">\n       <use transform=\"translate(0 0.684375)\" xlink:href=\"#DejaVuSans-49\"/>\n       <use transform=\"translate(63.623047 0.684375)\" xlink:href=\"#DejaVuSans-48\"/>\n       <use transform=\"translate(128.203125 38.965625)scale(0.7)\" xlink:href=\"#DejaVuSans-49\"/>\n      </g>\n     </g>\n    </g>\n    <g id=\"ytick_27\">\n     <g id=\"line2d_44\">\n      <path clip-path=\"url(#pce6916b78d)\" d=\"M 221.034783 110.911063 \nL 366.6 110.911063 \n\" style=\"fill:none;stroke:#b0b0b0;stroke-linecap:square;stroke-width:0.8;\"/>\n     </g>\n     <g id=\"line2d_45\">\n      <g>\n       <use style=\"stroke:#000000;stroke-width:0.8;\" x=\"221.034783\" xlink:href=\"#m0cd4a06844\" y=\"110.911063\"/>\n      </g>\n     </g>\n     <g id=\"text_13\">\n      <!-- $\\mathdefault{10^{2}}$ -->\n      <g transform=\"translate(196.434783 114.710282)scale(0.1 -0.1)\">\n       <use transform=\"translate(0 0.765625)\" xlink:href=\"#DejaVuSans-49\"/>\n       <use transform=\"translate(63.623047 0.765625)\" xlink:href=\"#DejaVuSans-48\"/>\n       <use transform=\"translate(128.203125 39.046875)scale(0.7)\" xlink:href=\"#DejaVuSans-50\"/>\n      </g>\n     </g>\n    </g>\n    <g id=\"ytick_28\">\n     <g id=\"line2d_46\">\n      <path clip-path=\"url(#pce6916b78d)\" d=\"M 221.034783 51.42935 \nL 366.6 51.42935 \n\" style=\"fill:none;stroke:#b0b0b0;stroke-linecap:square;stroke-width:0.8;\"/>\n     </g>\n     <g id=\"line2d_47\">\n      <g>\n       <use style=\"stroke:#000000;stroke-width:0.8;\" x=\"221.034783\" xlink:href=\"#m0cd4a06844\" y=\"51.42935\"/>\n      </g>\n     </g>\n     <g id=\"text_14\">\n      <!-- $\\mathdefault{10^{3}}$ -->\n      <g transform=\"translate(196.434783 55.228569)scale(0.1 -0.1)\">\n       <use transform=\"translate(0 0.765625)\" xlink:href=\"#DejaVuSans-49\"/>\n       <use transform=\"translate(63.623047 0.765625)\" xlink:href=\"#DejaVuSans-48\"/>\n       <use transform=\"translate(128.203125 39.046875)scale(0.7)\" xlink:href=\"#DejaVuSans-51\"/>\n      </g>\n     </g>\n    </g>\n    <g id=\"ytick_29\">\n     <g id=\"line2d_48\">\n      <g>\n       <use style=\"stroke:#000000;stroke-width:0.6;\" x=\"221.034783\" xlink:href=\"#m0411a70b3d\" y=\"239.088323\"/>\n      </g>\n     </g>\n    </g>\n    <g id=\"ytick_30\">\n     <g id=\"line2d_49\">\n      <g>\n       <use style=\"stroke:#000000;stroke-width:0.6;\" x=\"221.034783\" xlink:href=\"#m0411a70b3d\" y=\"235.638862\"/>\n      </g>\n     </g>\n    </g>\n    <g id=\"ytick_31\">\n     <g id=\"line2d_50\">\n      <g>\n       <use style=\"stroke:#000000;stroke-width:0.6;\" x=\"221.034783\" xlink:href=\"#m0411a70b3d\" y=\"232.596223\"/>\n      </g>\n     </g>\n    </g>\n    <g id=\"ytick_32\">\n     <g id=\"line2d_51\">\n      <g>\n       <use style=\"stroke:#000000;stroke-width:0.6;\" x=\"221.034783\" xlink:href=\"#m0411a70b3d\" y=\"211.968709\"/>\n      </g>\n     </g>\n    </g>\n    <g id=\"ytick_33\">\n     <g id=\"line2d_52\">\n      <g>\n       <use style=\"stroke:#000000;stroke-width:0.6;\" x=\"221.034783\" xlink:href=\"#m0411a70b3d\" y=\"201.494499\"/>\n      </g>\n     </g>\n    </g>\n    <g id=\"ytick_34\">\n     <g id=\"line2d_53\">\n      <g>\n       <use style=\"stroke:#000000;stroke-width:0.6;\" x=\"221.034783\" xlink:href=\"#m0411a70b3d\" y=\"194.062929\"/>\n      </g>\n     </g>\n    </g>\n    <g id=\"ytick_35\">\n     <g id=\"line2d_54\">\n      <g>\n       <use style=\"stroke:#000000;stroke-width:0.6;\" x=\"221.034783\" xlink:href=\"#m0411a70b3d\" y=\"188.298556\"/>\n      </g>\n     </g>\n    </g>\n    <g id=\"ytick_36\">\n     <g id=\"line2d_55\">\n      <g>\n       <use style=\"stroke:#000000;stroke-width:0.6;\" x=\"221.034783\" xlink:href=\"#m0411a70b3d\" y=\"183.588719\"/>\n      </g>\n     </g>\n    </g>\n    <g id=\"ytick_37\">\n     <g id=\"line2d_56\">\n      <g>\n       <use style=\"stroke:#000000;stroke-width:0.6;\" x=\"221.034783\" xlink:href=\"#m0411a70b3d\" y=\"179.60661\"/>\n      </g>\n     </g>\n    </g>\n    <g id=\"ytick_38\">\n     <g id=\"line2d_57\">\n      <g>\n       <use style=\"stroke:#000000;stroke-width:0.6;\" x=\"221.034783\" xlink:href=\"#m0411a70b3d\" y=\"176.157149\"/>\n      </g>\n     </g>\n    </g>\n    <g id=\"ytick_39\">\n     <g id=\"line2d_58\">\n      <g>\n       <use style=\"stroke:#000000;stroke-width:0.6;\" x=\"221.034783\" xlink:href=\"#m0411a70b3d\" y=\"173.11451\"/>\n      </g>\n     </g>\n    </g>\n    <g id=\"ytick_40\">\n     <g id=\"line2d_59\">\n      <g>\n       <use style=\"stroke:#000000;stroke-width:0.6;\" x=\"221.034783\" xlink:href=\"#m0411a70b3d\" y=\"152.486996\"/>\n      </g>\n     </g>\n    </g>\n    <g id=\"ytick_41\">\n     <g id=\"line2d_60\">\n      <g>\n       <use style=\"stroke:#000000;stroke-width:0.6;\" x=\"221.034783\" xlink:href=\"#m0411a70b3d\" y=\"142.012786\"/>\n      </g>\n     </g>\n    </g>\n    <g id=\"ytick_42\">\n     <g id=\"line2d_61\">\n      <g>\n       <use style=\"stroke:#000000;stroke-width:0.6;\" x=\"221.034783\" xlink:href=\"#m0411a70b3d\" y=\"134.581216\"/>\n      </g>\n     </g>\n    </g>\n    <g id=\"ytick_43\">\n     <g id=\"line2d_62\">\n      <g>\n       <use style=\"stroke:#000000;stroke-width:0.6;\" x=\"221.034783\" xlink:href=\"#m0411a70b3d\" y=\"128.816843\"/>\n      </g>\n     </g>\n    </g>\n    <g id=\"ytick_44\">\n     <g id=\"line2d_63\">\n      <g>\n       <use style=\"stroke:#000000;stroke-width:0.6;\" x=\"221.034783\" xlink:href=\"#m0411a70b3d\" y=\"124.107006\"/>\n      </g>\n     </g>\n    </g>\n    <g id=\"ytick_45\">\n     <g id=\"line2d_64\">\n      <g>\n       <use style=\"stroke:#000000;stroke-width:0.6;\" x=\"221.034783\" xlink:href=\"#m0411a70b3d\" y=\"120.124897\"/>\n      </g>\n     </g>\n    </g>\n    <g id=\"ytick_46\">\n     <g id=\"line2d_65\">\n      <g>\n       <use style=\"stroke:#000000;stroke-width:0.6;\" x=\"221.034783\" xlink:href=\"#m0411a70b3d\" y=\"116.675436\"/>\n      </g>\n     </g>\n    </g>\n    <g id=\"ytick_47\">\n     <g id=\"line2d_66\">\n      <g>\n       <use style=\"stroke:#000000;stroke-width:0.6;\" x=\"221.034783\" xlink:href=\"#m0411a70b3d\" y=\"113.632797\"/>\n      </g>\n     </g>\n    </g>\n    <g id=\"ytick_48\">\n     <g id=\"line2d_67\">\n      <g>\n       <use style=\"stroke:#000000;stroke-width:0.6;\" x=\"221.034783\" xlink:href=\"#m0411a70b3d\" y=\"93.005283\"/>\n      </g>\n     </g>\n    </g>\n    <g id=\"ytick_49\">\n     <g id=\"line2d_68\">\n      <g>\n       <use style=\"stroke:#000000;stroke-width:0.6;\" x=\"221.034783\" xlink:href=\"#m0411a70b3d\" y=\"82.531073\"/>\n      </g>\n     </g>\n    </g>\n    <g id=\"ytick_50\">\n     <g id=\"line2d_69\">\n      <g>\n       <use style=\"stroke:#000000;stroke-width:0.6;\" x=\"221.034783\" xlink:href=\"#m0411a70b3d\" y=\"75.099503\"/>\n      </g>\n     </g>\n    </g>\n    <g id=\"ytick_51\">\n     <g id=\"line2d_70\">\n      <g>\n       <use style=\"stroke:#000000;stroke-width:0.6;\" x=\"221.034783\" xlink:href=\"#m0411a70b3d\" y=\"69.33513\"/>\n      </g>\n     </g>\n    </g>\n    <g id=\"ytick_52\">\n     <g id=\"line2d_71\">\n      <g>\n       <use style=\"stroke:#000000;stroke-width:0.6;\" x=\"221.034783\" xlink:href=\"#m0411a70b3d\" y=\"64.625294\"/>\n      </g>\n     </g>\n    </g>\n    <g id=\"ytick_53\">\n     <g id=\"line2d_72\">\n      <g>\n       <use style=\"stroke:#000000;stroke-width:0.6;\" x=\"221.034783\" xlink:href=\"#m0411a70b3d\" y=\"60.643184\"/>\n      </g>\n     </g>\n    </g>\n    <g id=\"ytick_54\">\n     <g id=\"line2d_73\">\n      <g>\n       <use style=\"stroke:#000000;stroke-width:0.6;\" x=\"221.034783\" xlink:href=\"#m0411a70b3d\" y=\"57.193724\"/>\n      </g>\n     </g>\n    </g>\n    <g id=\"ytick_55\">\n     <g id=\"line2d_74\">\n      <g>\n       <use style=\"stroke:#000000;stroke-width:0.6;\" x=\"221.034783\" xlink:href=\"#m0411a70b3d\" y=\"54.151084\"/>\n      </g>\n     </g>\n    </g>\n    <g id=\"ytick_56\">\n     <g id=\"line2d_75\">\n      <g>\n       <use style=\"stroke:#000000;stroke-width:0.6;\" x=\"221.034783\" xlink:href=\"#m0411a70b3d\" y=\"33.52357\"/>\n      </g>\n     </g>\n    </g>\n    <g id=\"ytick_57\">\n     <g id=\"line2d_76\">\n      <g>\n       <use style=\"stroke:#000000;stroke-width:0.6;\" x=\"221.034783\" xlink:href=\"#m0411a70b3d\" y=\"23.04936\"/>\n      </g>\n     </g>\n    </g>\n   </g>\n   <g id=\"patch_208\">\n    <path d=\"M 221.034783 239.758125 \nL 221.034783 22.318125 \n\" style=\"fill:none;stroke:#000000;stroke-linecap:square;stroke-linejoin:miter;stroke-width:0.8;\"/>\n   </g>\n   <g id=\"patch_209\">\n    <path d=\"M 366.6 239.758125 \nL 366.6 22.318125 \n\" style=\"fill:none;stroke:#000000;stroke-linecap:square;stroke-linejoin:miter;stroke-width:0.8;\"/>\n   </g>\n   <g id=\"patch_210\">\n    <path d=\"M 221.034783 239.758125 \nL 366.6 239.758125 \n\" style=\"fill:none;stroke:#000000;stroke-linecap:square;stroke-linejoin:miter;stroke-width:0.8;\"/>\n   </g>\n   <g id=\"patch_211\">\n    <path d=\"M 221.034783 22.318125 \nL 366.6 22.318125 \n\" style=\"fill:none;stroke:#000000;stroke-linecap:square;stroke-linejoin:miter;stroke-width:0.8;\"/>\n   </g>\n   <g id=\"text_15\">\n    <!-- target -->\n    <defs>\n     <path d=\"M 18.3125 70.21875 \nL 18.3125 54.6875 \nL 36.8125 54.6875 \nL 36.8125 47.703125 \nL 18.3125 47.703125 \nL 18.3125 18.015625 \nQ 18.3125 11.328125 20.140625 9.421875 \nQ 21.96875 7.515625 27.59375 7.515625 \nL 36.8125 7.515625 \nL 36.8125 0 \nL 27.59375 0 \nQ 17.1875 0 13.234375 3.875 \nQ 9.28125 7.765625 9.28125 18.015625 \nL 9.28125 47.703125 \nL 2.6875 47.703125 \nL 2.6875 54.6875 \nL 9.28125 54.6875 \nL 9.28125 70.21875 \nz\n\" id=\"DejaVuSans-116\"/>\n    </defs>\n    <g transform=\"translate(275.573641 16.318125)scale(0.12 -0.12)\">\n     <use xlink:href=\"#DejaVuSans-116\"/>\n     <use x=\"39.208984\" xlink:href=\"#DejaVuSans-97\"/>\n     <use x=\"100.488281\" xlink:href=\"#DejaVuSans-114\"/>\n     <use x=\"139.851562\" xlink:href=\"#DejaVuSans-103\"/>\n     <use x=\"203.328125\" xlink:href=\"#DejaVuSans-101\"/>\n     <use x=\"264.851562\" xlink:href=\"#DejaVuSans-116\"/>\n    </g>\n   </g>\n  </g>\n </g>\n <defs>\n  <clipPath id=\"p7441f9941d\">\n   <rect height=\"217.44\" width=\"145.565217\" x=\"31.8\" y=\"22.318125\"/>\n  </clipPath>\n  <clipPath id=\"pce6916b78d\">\n   <rect height=\"217.44\" width=\"145.565217\" x=\"221.034783\" y=\"22.318125\"/>\n  </clipPath>\n </defs>\n</svg>\n",
      "image/png": "[encoded data removed]"
     },
     "metadata": {
      "needs_background": "light"
     }
    }
   ],
   "source": [
    "# merge TTA\n",
    "submission = df_test.copy() \n",
    "submission['target'] = 0.0\n",
    "for sub in glob(f'{SAVE_DIR}/submission*.csv'):\n",
    "    submission['target'] += pd.read_csv(sub, index_col='image_name').target.fillna(0).values\n",
    "    # if targets.isna().any():\n",
    "        # Path(sub).unlink()\n",
    "        # continue\n",
    "    # submission['target'] += targets.values\n",
    "\n",
    "# min-max norm\n",
    "submission['target'] -= submission.target.min()\n",
    "submission['target'] /= submission.target.max()\n",
    "\n",
    "submission.hist(bins=100, log=True, alpha=0.6)\n",
    "submission.target.describe()"
   ]
  },
  {
   "cell_type": "code",
   "execution_count": 30,
   "metadata": {},
   "outputs": [],
   "source": [
    "submission.reset_index()[['image_name', 'target']].to_csv(f'{SAVE_DIR}/submission_fold{fold_number}.csv', index=False)"
   ]
  },
  {
   "cell_type": "code",
   "execution_count": 31,
   "metadata": {},
   "outputs": [
    {
     "output_type": "execute_result",
     "data": {
      "text/plain": "              patient_id     sex  ...  anatom_site_general_challenge    target\nimage_name                        ...                                         \nISIC_0052060  IP_3579794    male  ...                            NaN  0.027397\nISIC_0052349  IP_7782715    male  ...                lower extremity  0.029436\nISIC_0058510  IP_7960270  female  ...                          torso  0.020262\nISIC_0073313  IP_6375035  female  ...                          torso  0.011556\nISIC_0073502  IP_0589375  female  ...                lower extremity  0.055760\n\n[5 rows x 5 columns]",
      "text/html": "<div>\n<style scoped>\n    .dataframe tbody tr th:only-of-type {\n        vertical-align: middle;\n    }\n\n    .dataframe tbody tr th {\n        vertical-align: top;\n    }\n\n    .dataframe thead th {\n        text-align: right;\n    }\n</style>\n<table border=\"1\" class=\"dataframe\">\n  <thead>\n    <tr style=\"text-align: right;\">\n      <th></th>\n      <th>patient_id</th>\n      <th>sex</th>\n      <th>age_approx</th>\n      <th>anatom_site_general_challenge</th>\n      <th>target</th>\n    </tr>\n    <tr>\n      <th>image_name</th>\n      <th></th>\n      <th></th>\n      <th></th>\n      <th></th>\n      <th></th>\n    </tr>\n  </thead>\n  <tbody>\n    <tr>\n      <th>ISIC_0052060</th>\n      <td>IP_3579794</td>\n      <td>male</td>\n      <td>70.0</td>\n      <td>NaN</td>\n      <td>0.027397</td>\n    </tr>\n    <tr>\n      <th>ISIC_0052349</th>\n      <td>IP_7782715</td>\n      <td>male</td>\n      <td>40.0</td>\n      <td>lower extremity</td>\n      <td>0.029436</td>\n    </tr>\n    <tr>\n      <th>ISIC_0058510</th>\n      <td>IP_7960270</td>\n      <td>female</td>\n      <td>55.0</td>\n      <td>torso</td>\n      <td>0.020262</td>\n    </tr>\n    <tr>\n      <th>ISIC_0073313</th>\n      <td>IP_6375035</td>\n      <td>female</td>\n      <td>50.0</td>\n      <td>torso</td>\n      <td>0.011556</td>\n    </tr>\n    <tr>\n      <th>ISIC_0073502</th>\n      <td>IP_0589375</td>\n      <td>female</td>\n      <td>45.0</td>\n      <td>lower extremity</td>\n      <td>0.055760</td>\n    </tr>\n  </tbody>\n</table>\n</div>"
     },
     "metadata": {},
     "execution_count": 31
    }
   ],
   "source": [
    "submission.head()"
   ]
  },
  {
   "cell_type": "markdown",
   "metadata": {},
   "source": [
    "# K-Fold blend"
   ]
  },
  {
   "cell_type": "code",
   "execution_count": null,
   "metadata": {},
   "outputs": [],
   "source": [
    "folds_sub = [pd.read_csv(path, index_col='image_name') for path in SAVE_DIR.iterdir() if '_fold' in path.name]"
   ]
  },
  {
   "cell_type": "code",
   "execution_count": null,
   "metadata": {},
   "outputs": [],
   "source": [
    "for fold in folds_sub:\n",
    "    # incremental blend with equal weights for all folds\n",
    "    submission.target += fold.target\n",
    "    submission.target /= len(folds_sub)\n",
    "\n",
    "submission.to_csv(SAVE_DIR.parent / 'submission.csv', index=False)\n",
    "\n",
    "submission.hist(bins=100, log=True, alpha=0.6)\n",
    "submission.target.describe()"
   ]
  },
  {
   "cell_type": "code",
   "execution_count": null,
   "metadata": {},
   "outputs": [],
   "source": [
    "!kaggle competitions submit -c siim-isic-melanoma-classification -f {SAVE_DIR.parent}/submission.csv -m \"Pytorch Lightning Upsampled Full Data\""
   ]
  }
 ],
 "metadata": {
  "kernelspec": {
   "display_name": "Python 3.6.9 64-bit",
   "language": "python",
   "name": "python_defaultSpec_1596924942275"
  },
  "language_info": {
   "codemirror_mode": {
    "name": "ipython",
    "version": 3
   },
   "file_extension": ".py",
   "mimetype": "text/x-python",
   "name": "python",
   "nbconvert_exporter": "python",
   "pygments_lexer": "ipython3",
   "version": "3.6.9"
  }
 },
 "nbformat": 4,
 "nbformat_minor": 4
}